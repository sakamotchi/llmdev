{
 "cells": [
  {
   "cell_type": "code",
   "execution_count": 1,
   "id": "56fbb9bd",
   "metadata": {},
   "outputs": [],
   "source": [
    "# 対象Excelファイルの対象シートにあるA列の県名に対して、おすすめの名産品を答えてくれるアプリ\n",
    "import os\n",
    "import json\n",
    "from dotenv import load_dotenv\n",
    "from openai import OpenAI\n",
    "import pandas as pd\n",
    "\n",
    "load_dotenv()\n",
    "\n",
    "client = OpenAI(api_key=os.environ['API_KEY'])\n",
    "\n",
    "MODEL_NAME = \"gpt-4o-mini\"\n"
   ]
  },
  {
   "cell_type": "code",
   "execution_count": 4,
   "id": "ccde69d0",
   "metadata": {},
   "outputs": [],
   "source": [
    "# 県名から名産品を答える関数\n",
    "def local_specialty_from_prefecture(prefecture):\n",
    "    # プロンプトの作成\n",
    "    prompt_text = f\"次の都道府県名に基づいて、その県の名産品を答えてください：{prefecture}\"\n",
    "\n",
    "    try:\n",
    "        # OpenAI APIで応答を作成\n",
    "        response = client.chat.completions.create(\n",
    "            model=MODEL_NAME,\n",
    "            messages=[\n",
    "                {\"role\": \"user\", \"content\": prompt_text},\n",
    "            ],\n",
    "            max_tokens=100,\n",
    "            temperature=0.3\n",
    "        )\n",
    "        return response.choices[0].message.content.strip()\n",
    "    except Exception as e:\n",
    "        print(f\"API呼び出しでエラーが発生しました：{e}\")\n",
    "        return \"エラー\""
   ]
  },
  {
   "cell_type": "code",
   "execution_count": 5,
   "id": "12e18ccc",
   "metadata": {},
   "outputs": [
    {
     "name": "stdout",
     "output_type": "stream",
     "text": [
      "岩手県の名産品には、以下のようなものがあります。\n",
      "\n",
      "1. **わんこそば** - 小さな器に盛られたそばを次々と食べるスタイルのそば料理。\n",
      "2. **盛岡冷麺** - 冷たいスープとともに提供される独特の食感の麺。\n",
      "3. **南部せんべい** - 伝統的な米のせ\n"
     ]
    }
   ],
   "source": [
    "# テストコードで確認\n",
    "text = local_specialty_from_prefecture(\"岩手県\")\n",
    "print(text)"
   ]
  },
  {
   "cell_type": "code",
   "execution_count": 6,
   "id": "ca03a36b",
   "metadata": {},
   "outputs": [
    {
     "name": "stdout",
     "output_type": "stream",
     "text": [
      "処理を開始します。\n",
      "Excelファイルに保存しました。\n"
     ]
    }
   ],
   "source": [
    "# ワークフロー化\n",
    "print(\"処理を開始します。\")\n",
    "\n",
    "# Excelファイルを読み込む\n",
    "df = pd.read_excel('課題用サンプルデータ.xlsx', sheet_name='名産品')\n",
    "\n",
    "# A列の各行の都道府県名に対して名産品を問い合わせて、B列に書き込む\n",
    "df['名産品'] = df['県名'].apply(local_specialty_from_prefecture)\n",
    "\n",
    "# 結果をExcelファイルに保存\n",
    "df.to_excel(\"課題の結果.xlsx\", index=False)\n",
    "\n",
    "print(\"Excelファイルに保存しました。\")"
   ]
  }
 ],
 "metadata": {
  "kernelspec": {
   "display_name": ".venv",
   "language": "python",
   "name": "python3"
  },
  "language_info": {
   "codemirror_mode": {
    "name": "ipython",
    "version": 3
   },
   "file_extension": ".py",
   "mimetype": "text/x-python",
   "name": "python",
   "nbconvert_exporter": "python",
   "pygments_lexer": "ipython3",
   "version": "3.13.2"
  }
 },
 "nbformat": 4,
 "nbformat_minor": 5
}
