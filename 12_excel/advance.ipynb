{
 "cells": [
  {
   "cell_type": "code",
   "execution_count": 1,
   "id": "310b0199",
   "metadata": {},
   "outputs": [],
   "source": [
    "# 必要なモジュールをインポート\n",
    "import os\n",
    "import json\n",
    "from dotenv import load_dotenv\n",
    "from openai import OpenAI\n",
    "import pandas as pd\n",
    "\n",
    "# 環境変数の取得\n",
    "load_dotenv()\n",
    "\n",
    "# OpenAI APIクライアントを生成\n",
    "client = OpenAI(api_key=os.environ['API_KEY'])\n",
    "\n",
    "# モデル名\n",
    "MODEL_NAME = \"gpt-4o-mini\""
   ]
  },
  {
   "cell_type": "code",
   "execution_count": 2,
   "id": "fbe15231",
   "metadata": {},
   "outputs": [],
   "source": [
    "# 住所から件名を推測して補完する関数\n",
    "def extract_prefecture(address):\n",
    "    # プロンプトの作成\n",
    "    prompt_text = f\"次の住所に基づいて、対応する都道府県名を推測し、「都道府県名」のみ答えてください：{address}\"\n",
    "\n",
    "    try:\n",
    "        # OpenAI APIで応答を生成\n",
    "        response = client.chat.completions.create(\n",
    "            model=MODEL_NAME,\n",
    "            messages=[\n",
    "                {\"role\": \"user\", \"content\": prompt_text},\n",
    "            ],\n",
    "            max_tokens=100,\n",
    "            temperature=0.3\n",
    "        )\n",
    "        # キーワード抽出結果を取得\n",
    "        keywords = response.choices[0].message.content.strip()\n",
    "        return keywords\n",
    "\n",
    "    except Exception as e:\n",
    "        print(f\"API呼び出しでエラーが発生しました：{e}\")\n",
    "        return \"エラー\""
   ]
  },
  {
   "cell_type": "code",
   "execution_count": 3,
   "id": "88fd1cba",
   "metadata": {},
   "outputs": [
    {
     "name": "stdout",
     "output_type": "stream",
     "text": [
      "東京都\n"
     ]
    }
   ],
   "source": [
    "# テストコードで確認\n",
    "text = extract_prefecture(\"渋谷区道玄坂1丁目16-3\")\n",
    "print(text)\n"
   ]
  },
  {
   "cell_type": "code",
   "execution_count": 4,
   "id": "471d833f",
   "metadata": {},
   "outputs": [
    {
     "name": "stdout",
     "output_type": "stream",
     "text": [
      "処理を開始します。\n",
      "Excelファイルに結果を保存しました。\n"
     ]
    }
   ],
   "source": [
    "# ワークフロー化\n",
    "print(\"処理を開始します。\")\n",
    "\n",
    "# Excelファイルを読み込む\n",
    "df = pd.read_excel('サンプルデータ.xlsx', sheet_name='住所')\n",
    "\n",
    "# A列の各行のアンケートに対してキーワード抽出を実行し、B列に書き込む\n",
    "df['都道府県'] = df['住所'].apply(extract_prefecture)\n",
    "\n",
    "# 結果をExcelファイルに保存\n",
    "df.to_excel(\"都道府県付住所.xlsx\", index=False)\n",
    "\n",
    "print(\"Excelファイルに結果を保存しました。\")"
   ]
  },
  {
   "cell_type": "code",
   "execution_count": 5,
   "id": "49ce5c68",
   "metadata": {},
   "outputs": [],
   "source": [
    "# 電話番号のフォーマットを統一する関数\n",
    "def format_phone_numbers(phone_number):\n",
    "    # プロンプトの作成\n",
    "    prompt_text = f\"次の電話番号を統一した形式「xxx-xxxx-xxxx」に変換してください。電話番号のみを出力してください：{phone_number}\"\n",
    "\n",
    "    try:\n",
    "        # OpenAI APIで応答を生成\n",
    "        response = client.chat.completions.create(\n",
    "            model=MODEL_NAME,\n",
    "            messages=[\n",
    "                {\"role\": \"user\", \"content\": prompt_text},\n",
    "            ],\n",
    "            max_tokens=100,\n",
    "            temperature=0.3\n",
    "        )\n",
    "\n",
    "        # キーワード抽出結果を取得\n",
    "        keywords = response.choices[0].message.content.strip()\n",
    "        return keywords\n",
    "\n",
    "    except Exception as e:\n",
    "        print(f\"API呼び出しでエラーが発生しました：{e}\")\n",
    "        return \"エラー\""
   ]
  },
  {
   "cell_type": "code",
   "execution_count": 6,
   "id": "60623c77",
   "metadata": {},
   "outputs": [
    {
     "name": "stdout",
     "output_type": "stream",
     "text": [
      "080-1234-5678\n"
     ]
    }
   ],
   "source": [
    "# テストコードで確認\n",
    "text = format_phone_numbers(\"080.1234.5678\")\n",
    "print(text)"
   ]
  },
  {
   "cell_type": "code",
   "execution_count": 7,
   "id": "5bd1b177",
   "metadata": {},
   "outputs": [
    {
     "name": "stdout",
     "output_type": "stream",
     "text": [
      "処理を開始します\n",
      "Excelファイルに結果を保存しました。\n"
     ]
    }
   ],
   "source": [
    "# ワークフロー化\n",
    "print(\"処理を開始します\")\n",
    "\n",
    "# Excelファイルを読み込む\n",
    "df = pd.read_excel('サンプルデータ.xlsx', sheet_name='電話番号')\n",
    "\n",
    "# A列の各行のアンケートに対してキーワード抽出を実行し、B列に書き込む\n",
    "df['フォーマット後'] = df['電話番号'].apply(format_phone_numbers)\n",
    "\n",
    "# 結果をExcelファイルに保存\n",
    "df.to_excel(\"フォーマット後電話番号.xlsx\", index=False)\n",
    "\n",
    "print(\"Excelファイルに結果を保存しました。\")"
   ]
  },
  {
   "cell_type": "code",
   "execution_count": 8,
   "id": "fbe75ade",
   "metadata": {},
   "outputs": [],
   "source": [
    "from openai.types.chat import ChatCompletionToolParam\n",
    "\n",
    "# ツール定義\n",
    "tools = [\n",
    "    ChatCompletionToolParam({\n",
    "        \"type\": \"function\",\n",
    "        \"function\": {\n",
    "            \"name\": \"get_products\",\n",
    "            \"description\": \"グループごとに統一した商品名「group_name」と、グループに属する商品名のリスト「products」を結合した結果を返す\",\n",
    "            \"parameters\": {\n",
    "                \"type\": \"object\",\n",
    "                \"properties\": {\n",
    "                    \"product_data\": {\n",
    "                        \"type\": \"array\",\n",
    "                        \"items\": {\n",
    "                            \"product_name\": {\n",
    "                                \"type\": \"string\",\n",
    "                                \"description\": \"グループごとに統一した商品名\",\n",
    "                            },\n",
    "                            \"products\": {\n",
    "                                \"type\": \"string\",\n",
    "                                \"description\": \"グループに属する商品名をカンマ区切りで並べた文字列\",\n",
    "                            },\n",
    "                        },\n",
    "                    },\n",
    "                },\n",
    "                \"required\": [\"product_name\", \"products\"]\n",
    "            },\n",
    "        }\n",
    "    })\n",
    "]"
   ]
  },
  {
   "cell_type": "code",
   "execution_count": 9,
   "id": "b3a2e756",
   "metadata": {},
   "outputs": [
    {
     "name": "stdout",
     "output_type": "stream",
     "text": [
      "処理を開始します\n"
     ]
    },
    {
     "ename": "AttributeError",
     "evalue": "'NoneType' object has no attribute 'tool_calls'",
     "output_type": "error",
     "traceback": [
      "\u001b[31m---------------------------------------------------------------------------\u001b[39m",
      "\u001b[31mAttributeError\u001b[39m                            Traceback (most recent call last)",
      "\u001b[36mCell\u001b[39m\u001b[36m \u001b[39m\u001b[32mIn[9]\u001b[39m\u001b[32m, line 29\u001b[39m\n\u001b[32m     14\u001b[39m response = client.chat.completions.create(\n\u001b[32m     15\u001b[39m     model=MODEL_NAME,\n\u001b[32m     16\u001b[39m     messages=[\n\u001b[32m   (...)\u001b[39m\u001b[32m     24\u001b[39m     response_format={\u001b[33m\"\u001b[39m\u001b[33mtype\u001b[39m\u001b[33m\"\u001b[39m:\u001b[33m\"\u001b[39m\u001b[33mjson_object\u001b[39m\u001b[33m\"\u001b[39m}\n\u001b[32m     25\u001b[39m )\n\u001b[32m     27\u001b[39m \u001b[38;5;66;03m# 4. 分析結果をJSONオブジェクトに変換\u001b[39;00m\n\u001b[32m     28\u001b[39m \u001b[38;5;66;03m# ツール呼出情報を取得\u001b[39;00m\n\u001b[32m---> \u001b[39m\u001b[32m29\u001b[39m tool = \u001b[43mresponse\u001b[49m\u001b[43m.\u001b[49m\u001b[43mchoices\u001b[49m\u001b[43m[\u001b[49m\u001b[32;43m0\u001b[39;49m\u001b[43m]\u001b[49m\u001b[43m.\u001b[49m\u001b[43mmessage\u001b[49m\u001b[43m.\u001b[49m\u001b[43mcontent\u001b[49m\u001b[43m.\u001b[49m\u001b[43mtool_calls\u001b[49m[\u001b[32m0\u001b[39m]\n\u001b[32m     30\u001b[39m \u001b[38;5;66;03m# JSONオブジェクトに変換\u001b[39;00m\n\u001b[32m     31\u001b[39m data = json.loads(tool.function.arguments)\n",
      "\u001b[31mAttributeError\u001b[39m: 'NoneType' object has no attribute 'tool_calls'"
     ]
    }
   ],
   "source": [
    "print(\"処理を開始します\")\n",
    "\n",
    "# 1. Excelファイルを読み込む\n",
    "df = pd.read_excel('サンプルデータ.xlsx', sheet_name='商品名')\n",
    "\n",
    "# 2. データをLLM用にテキスト形式に変換\n",
    "product_data_text = df.astype(str)\n",
    "prompt_text = f\"\"\"\n",
    "次の商品名のリストから、似た名前の商品をグループ化し、グループごとに統一した商品名「product_name」を提案し、グループに属する商品名をカンマ区切りで並べた文字列「products」を作成し、「product_nameとproductsのリスト」で構成されるJSONデータ「product_data」を出力してください。\n",
    "{product_data_text}\n",
    "\"\"\"\n",
    "\n",
    "# 3. OpenAI APIの呼び出し\n",
    "response = client.chat.completions.create(\n",
    "    model=MODEL_NAME,\n",
    "    messages=[\n",
    "        {\"role\": \"user\", \"content\": prompt_text},\n",
    "    ],\n",
    "    tools=tools,\n",
    "    tool_choice={\n",
    "        \"type\": \"function\",\n",
    "        \"function\":{\"name\":\"get_products\"}\n",
    "    },\n",
    "    response_format={\"type\":\"json_object\"}\n",
    ")\n",
    "\n",
    "# 4. 分析結果をJSONオブジェクトに変換\n",
    "# ツール呼出情報を取得\n",
    "tool = response.choices[0].message.content.tool_calls[0]\n",
    "# JSONオブジェクトに変換\n",
    "data = json.loads(tool.function.arguments)\n",
    "\n",
    "# データフレームに変換\n",
    "df_out = pd.DataFrame(data['product_data'])\n",
    "\n",
    "# 5. 結果をExcelファイルに保存\n",
    "df_out.to_excel(\"商品名グループ化結果.xlsx\", index=False)\n",
    "\n",
    "print(\"Excelファイルに処理結果を保存しました。\")"
   ]
  }
 ],
 "metadata": {
  "kernelspec": {
   "display_name": ".venv",
   "language": "python",
   "name": "python3"
  },
  "language_info": {
   "codemirror_mode": {
    "name": "ipython",
    "version": 3
   },
   "file_extension": ".py",
   "mimetype": "text/x-python",
   "name": "python",
   "nbconvert_exporter": "python",
   "pygments_lexer": "ipython3",
   "version": "3.13.2"
  }
 },
 "nbformat": 4,
 "nbformat_minor": 5
}
