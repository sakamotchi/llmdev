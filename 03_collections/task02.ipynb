{
 "cells": [
  {
   "cell_type": "code",
   "execution_count": 2,
   "id": "a0c15943",
   "metadata": {},
   "outputs": [
    {
     "name": "stdout",
     "output_type": "stream",
     "text": [
      "入力した英単語： ['aaa', 'bda', 'dfawsdvba']\n",
      "aが6個ありました\n",
      "bが2個ありました\n",
      "dが3個ありました\n",
      "fが1個ありました\n",
      "sが1個ありました\n",
      "vが1個ありました\n",
      "wが1個ありました\n"
     ]
    }
   ],
   "source": [
    "# inputが空まで入力文字を受け取る\n",
    "# 受け取った文字をリストに格納する\n",
    "words = []\n",
    "while True:\n",
    "    word = input(\"英単語を入力してください：\")\n",
    "    if word == \"\":\n",
    "        break\n",
    "    words.append(word)\n",
    "# 入力した単語を表示する\n",
    "print(\"入力した英単語：\", words)\n",
    "\n",
    "# すべての単語を１つに結合する\n",
    "joined_words = \"\".join(words)\n",
    "\n",
    "# 使われている文字をキー、使われている回数を値にした辞書を作成する\n",
    "count_dict = {}\n",
    "for char in joined_words:\n",
    "    if char in count_dict:\n",
    "        count_dict[char] += 1\n",
    "    else:\n",
    "        count_dict[char] = 1\n",
    "# 辞書をアルファベット順にソートする\n",
    "sorted_dict = dict(sorted(count_dict.items()))\n",
    "# ソートした辞書を表示する\n",
    "for key, value in sorted_dict.items():\n",
    "    print(f\"{key}が{value}個ありました\")"
   ]
  }
 ],
 "metadata": {
  "kernelspec": {
   "display_name": ".venv",
   "language": "python",
   "name": "python3"
  },
  "language_info": {
   "codemirror_mode": {
    "name": "ipython",
    "version": 3
   },
   "file_extension": ".py",
   "mimetype": "text/x-python",
   "name": "python",
   "nbconvert_exporter": "python",
   "pygments_lexer": "ipython3",
   "version": "3.13.2"
  }
 },
 "nbformat": 4,
 "nbformat_minor": 5
}
