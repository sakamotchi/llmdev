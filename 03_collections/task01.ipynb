{
 "cells": [
  {
   "cell_type": "code",
   "execution_count": 2,
   "id": "1dab026d",
   "metadata": {},
   "outputs": [
    {
     "name": "stdout",
     "output_type": "stream",
     "text": [
      "平均点: 86.6\n",
      "最高点: 92\n",
      "最低点: 78\n",
      "平均以上の学生数: 3\n"
     ]
    }
   ],
   "source": [
    "# 学生の成績リスト\n",
    "grades = [85, 90, 78, 92, 88]\n",
    "\n",
    "# 平均点\n",
    "average = sum(grades) / len(grades)\n",
    "print(f\"平均点: {average:.1f}\")\n",
    "# 成績の最高点\n",
    "max_grade = max(grades)\n",
    "print(f\"最高点: {max_grade}\")\n",
    "# 成績の最低点\n",
    "min_grade = min(grades)\n",
    "print(f\"最低点: {min_grade}\")\n",
    "# 平均以上の学生数\n",
    "above_average_count = sum(1 for grade in grades if grade > average)\n",
    "print(f\"平均以上の学生数: {above_average_count}\")\n"
   ]
  }
 ],
 "metadata": {
  "kernelspec": {
   "display_name": ".venv",
   "language": "python",
   "name": "python3"
  },
  "language_info": {
   "codemirror_mode": {
    "name": "ipython",
    "version": 3
   },
   "file_extension": ".py",
   "mimetype": "text/x-python",
   "name": "python",
   "nbconvert_exporter": "python",
   "pygments_lexer": "ipython3",
   "version": "3.13.2"
  }
 },
 "nbformat": 4,
 "nbformat_minor": 5
}
