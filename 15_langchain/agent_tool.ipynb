{
 "cells": [
  {
   "cell_type": "code",
   "execution_count": 1,
   "id": "dc49e99e",
   "metadata": {},
   "outputs": [],
   "source": [
    "# 必要なモジュールをインポート\n",
    "import os\n",
    "from dotenv import load_dotenv\n",
    "from langchain_openai import ChatOpenAI\n",
    "\n",
    "# 環境変数の読み込み\n",
    "load_dotenv(\"../.env\")\n",
    "os.environ['OPENAI_API_KEY'] = os.environ['API_KEY']\n",
    "\n",
    "# モデル名\n",
    "MODEL_NAME = \"gpt-4o-mini\""
   ]
  },
  {
   "cell_type": "code",
   "execution_count": 2,
   "id": "8e472a39",
   "metadata": {},
   "outputs": [],
   "source": [
    "# 検索ツールの定義\n",
    "from langchain_community.tools.tavily_search import TavilySearchResults\n",
    "\n",
    "tool = TavilySearchResults(max_results=2)\n",
    "tools = [tool]"
   ]
  },
  {
   "cell_type": "code",
   "execution_count": 3,
   "id": "40237074",
   "metadata": {},
   "outputs": [
    {
     "data": {
      "text/plain": [
       "[{'url': 'https://zenn.dev/pharmax/articles/8796b892eed183',\n",
       "  'content': 'Node. Nodeは、Graph上で実際のステップを実行するコンポーネントです。 例えば実際にLangChainを使用してLLMのモデルを呼び出す処理は、Node上で行いま'},\n",
       " {'url': 'https://weel.co.jp/media/tech/langgraph/',\n",
       "  'content': '参考：https://github.com/langchain-ai/langgraph/blob/main/docs/docs/how-tos/visualization.ipynb\\nLangGraphを使うことにより複数のエージェントを定義することができ、それぞれに特定の役割を持たせることができます。また、各ステップを「ノード」として定義して「状態の遷移」を制御可能。さらに、条件付き遷移や処理の再実行が簡単にできるなどのメリットがあります。\\nLangGraphはRAGのような使い方もできますが、LangGraphとRAGは異なっており、RAGはLLMに不足している知識を外部データベースから補完するのに対して、LangGraphはその処理の流れ(検索→生成→出力など)をノードとして組み、順序や条件を制御する役割を担っています。\\nLangGraphの構成要素\\nLangGraphにはノードや状態の遷移以外にも構成要素があります。※1\\n先ほどの画像と見比べながら解説をします。 [...] ホーム\\n生成AIテック\\nやってみた系\\nLangGraphとは？エージェントの使い方とワークフロー構築法をハンズオンで解説\\n\\nLangGraphとは？エージェントの使い方とワークフロー構築法をハンズオンで解説\\n2025 4/10\\nやってみた系\\n2025-04-10\\n\\n押さえておきたいポイント\\n\\nLangChainのコンポーネントを使って処理フローをグラフ構造で制御できる\\nノード間で状態（データ）を引き継ぎながら処理を進められる\\nローカル環境で実装可能\\n\\nLangChainに似たLangGraphをご存知ですか？LangGraphはReplitやUber、LinkedInなどで使用されており、LangChainでは複雑で対応が難しかった処理も制御可能です。\\n本記事では、LangGraphの概要やLangChainとの違い、実際の使い方について解説をします。最後までお読みいただければ、LangGraphの理解が深まり、実装できるようになります。\\n\\n目次\\n\\nLangGraphの概要\\nLangGraphの構成要素 [...] 参考：https://github.com/langchain-ai/langgraph/blob/main/docs/docs/how-tos/visualization.ipynb\\n| 要素 | 説明 | 画像例 |\\n| --- | --- | --- |\\n| Graph | 全体の処理構造 | 図全体 |\\n| Node | 個々の処理単位 | 各四角形 |\\n| Edge | ノード間の繋がり | 実践もしくは転線の矢印 |\\n| State | ノード間で渡るデータ | ノード関数の入力・出力 |\\n| Router | 条件付きで次のノードを決める関数 | entry_nodeやnode_entry_node_Bなど |\\nまた、上記の画像に記載されていない構成要素もあります。\\n| 要素 | 説明 | 備考 |\\n| --- | --- | --- |\\n| Entry Point/ Finish Point | グラフの開始点と終了点を明示 | set_entry_point(), set_finish_point() |'}]"
      ]
     },
     "execution_count": 3,
     "metadata": {},
     "output_type": "execute_result"
    }
   ],
   "source": [
    "tool.invoke(\"Langgraphのノードとは？\")"
   ]
  },
  {
   "cell_type": "code",
   "execution_count": 4,
   "id": "ff754da3",
   "metadata": {},
   "outputs": [
    {
     "data": {
      "text/plain": [
       "<langgraph.graph.state.StateGraph at 0x10e755400>"
      ]
     },
     "execution_count": 4,
     "metadata": {},
     "output_type": "execute_result"
    }
   ],
   "source": [
    "from typing import Annotated\n",
    "from typing_extensions import TypedDict\n",
    "from langgraph.graph import StateGraph\n",
    "from langgraph.graph.message import add_messages\n",
    "\n",
    "# Stateクラスの定義\n",
    "class State(TypedDict):\n",
    "    messages: Annotated[list, add_messages]\n",
    "\n",
    "# グラフのインスタンスを作成\n",
    "graph_builder = StateGraph(State)\n",
    "\n",
    "# 言語モデルの定義\n",
    "llm = ChatOpenAI(model_name=MODEL_NAME)\n",
    "\n",
    "# 変更点：ツール定義の紐づけ\n",
    "llm_with_tools = llm.bind_tools(tools)\n",
    "\n",
    "# チャットボットノードの作成\n",
    "def chatbot(state: State):\n",
    "    return {\"messages\": [llm_with_tools.invoke(state[\"messages\"])]}\n",
    "\n",
    "# グラフにチャットボットノードを追加\n",
    "graph_builder.add_node(\"chatbot\", chatbot)"
   ]
  },
  {
   "cell_type": "code",
   "execution_count": 5,
   "id": "3d66ef09",
   "metadata": {},
   "outputs": [],
   "source": [
    "from langgraph.prebuilt import ToolNode, tools_condition\n",
    "from langgraph.checkpoint.memory import MemorySaver\n",
    "\n",
    "# ツールノードの作成\n",
    "tool_node = ToolNode(tools)\n",
    "\n",
    "# グラフにツールノードを追加\n",
    "graph_builder.add_node(\"tools\", tool_node)\n",
    "\n",
    "# 条件付エッジの作成\n",
    "graph_builder.add_conditional_edges(\n",
    "    \"chatbot\",\n",
    "    tools_condition, # ツール呼出と判断したらツールノードを呼ぶ\n",
    ")\n",
    "\n",
    "# ツールが呼び出されるたびに、チャットボットに戻って次のステップを決定\n",
    "# ツールからチャットボットへの戻りエッジを作成\n",
    "graph_builder.add_edge(\"tools\", \"chatbot\")\n",
    "\n",
    "# 開始ノードの指定\n",
    "graph_builder.set_entry_point(\"chatbot\")\n",
    "\n",
    "# 記憶を持つ実行可能なステートグラフの作成\n",
    "memory = MemorySaver()\n",
    "graph = graph_builder.compile(checkpointer=memory)"
   ]
  },
  {
   "cell_type": "code",
   "execution_count": 6,
   "id": "ec50b179",
   "metadata": {},
   "outputs": [
    {
     "data": {
      "image/png": "[encoded data removed]",
      "text/plain": [
       "<IPython.core.display.Image object>"
      ]
     },
     "metadata": {},
     "output_type": "display_data"
    }
   ],
   "source": [
    "# グラフの可視化\n",
    "from IPython.display import Image, display\n",
    "\n",
    "display(Image(graph.get_graph().draw_mermaid_png()))"
   ]
  },
  {
   "cell_type": "code",
   "execution_count": 7,
   "id": "2dc31df3",
   "metadata": {},
   "outputs": [
    {
     "name": "stdout",
     "output_type": "stream",
     "text": [
      "こんにちは！\n",
      "こんにちは！何かお手伝いできることがありますか？\n",
      "1足す2は？\n",
      "1足す2は3です。何か他に知りたいことがありますか？\n",
      "1メートル以上の魚は？\n",
      "\n",
      "[{\"url\": \"https://www.zukan-bouz.com/syu/%E3%82%AA%E3%82%AA%E3%83%8B%E3%83%99\", \"content\": \"1m以上になる大型魚でイヤミのない魚なので知名度はないものの、徐々に人気を得ている。 関東の市場でも普通になっていて、切り身などで小売店に並ぶこともある\"}, {\"url\": \"https://detail.chiebukuro.yahoo.co.jp/qa/question_detail/q14260099909\", \"content\": \"友人と琵琶湖でバス釣りをしていたら、余裕で1m以上の巨大な魚を見ました。かなり近くで見たのですが、ビワコオオナマズでも、コイでもありません。\"}]\n",
      "1メートル以上の魚にはいくつかの種類があります。例えば、以下のような魚が挙げられます：\n",
      "\n",
      "1. **オオニベ** - 1メートル以上になる大型魚で、徐々に人気が高まっている魚です。関東の市場でも見かけることがあります。詳細は[こちら](https://www.zukan-bouz.com/syu/%E3%82%AA%E3%82%AA%E3%83%8B%E3%83%99)で確認できます。\n",
      "\n",
      "2. **ビワコオオナマズ** - 琵琶湖で見られる巨大な魚で、友人が実際に見た経験があります。詳細は[こちら](https://detail.chiebukuro.yahoo.co.jp/qa/question_detail/q14260099909)で確認できます。\n",
      "\n",
      "他にも多くの種類の魚が1メートル以上に成長しますが、具体的にどの魚に興味がありますか？\n",
      "ありがとうございました!\n"
     ]
    }
   ],
   "source": [
    "# グラフの実行と結果の表示\n",
    "def stream_graph_updates(user_input: str):\n",
    "    events = graph.stream(\n",
    "        {\"messages\": [(\"user\", user_input)]},\n",
    "        {\"configurable\": {\"thread_id\": \"1\"}},\n",
    "        stream_mode=\"values\")\n",
    "    # 結果をストリーミングで得る\n",
    "    for event in events:\n",
    "        print(event[\"messages\"][-1].content, flush=True)\n",
    "\n",
    "# チャットボットのループ\n",
    "while True:\n",
    "    user_input = input(\"質問:\")\n",
    "    if user_input.strip()==\"\":\n",
    "        print(\"ありがとうございました!\")\n",
    "        break\n",
    "    stream_graph_updates(user_input)"
   ]
  }
 ],
 "metadata": {
  "kernelspec": {
   "display_name": ".venv",
   "language": "python",
   "name": "python3"
  },
  "language_info": {
   "codemirror_mode": {
    "name": "ipython",
    "version": 3
   },
   "file_extension": ".py",
   "mimetype": "text/x-python",
   "name": "python",
   "nbconvert_exporter": "python",
   "pygments_lexer": "ipython3",
   "version": "3.13.2"
  }
 },
 "nbformat": 4,
 "nbformat_minor": 5
}
