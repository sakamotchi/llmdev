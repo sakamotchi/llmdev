{
 "cells": [
  {
   "cell_type": "code",
   "execution_count": 1,
   "id": "c628904d",
   "metadata": {},
   "outputs": [],
   "source": [
    "# 必要なモジュールをインポート\n",
    "import os\n",
    "import json\n",
    "from dotenv import load_dotenv\n",
    "from openai import OpenAI\n",
    "from openai.types.chat import ChatCompletionToolParam\n",
    "from tavily import TavilyClient\n",
    "\n",
    "# 環境変数の取得\n",
    "load_dotenv(\"../.env\")\n",
    "\n",
    "# OpenAI APIクライアントを生成\n",
    "client = OpenAI(api_key=os.environ['API_KEY'])\n",
    "\n",
    "# tavily検索用APIキーの取得\n",
    "TAVILY_API_KEY = os.environ['TAVILY_API_KEY']\n",
    "\n",
    "# モデル名\n",
    "MODEL_NAME = \"gpt-4o-mini\""
   ]
  },
  {
   "cell_type": "code",
   "execution_count": 5,
   "id": "7f6f51db",
   "metadata": {},
   "outputs": [],
   "source": [
    "# 検索結果を返す関数の作成\n",
    "def get_search_result(question):\n",
    "    client = TavilyClient(api_key=TAVILY_API_KEY)\n",
    "    response = client.search(question)\n",
    "    return json.dumps({\"result\": response[\"results\"]})\n"
   ]
  },
  {
   "cell_type": "code",
   "execution_count": 7,
   "id": "de38f4f0",
   "metadata": {},
   "outputs": [
    {
     "data": {
      "text/plain": [
       "{'result': [{'title': '東京駅(東京都)周辺のイベント - ウォーカープラス',\n",
       "   'url': 'https://www.walkerplus.com/event_list/ar0313/sc309880d/',\n",
       "   'content': '東京駅(東京都)周辺のイベント｜ウォーカープラス 千代田区 中央区 ウォーカープラス 東京駅(東京都)周辺のイベント 東京駅(東京都)周辺のイベント 今日 明日 今週末 千代田区 中央区 アニメ「鬼滅の刃」柱展 ーそして無限城へー終了間近 2024年11月2日(土)～2025年3月2日(日) 江戸にひかり大丸有開催中 2025年1月9日(木)～3月7日(金) 二重橋前駅(東京都), 東京駅(東京都), 大手町駅(東京都), 有楽町駅(東京都), 日比谷駅(東京都) 生誕120年 宮脇綾子の芸術 見た、切った、貼った開催中 2025年1月25日(土)～3月16日(日) 東京駅(東京都), 二重橋前駅(東京都), 大手町駅(東京都), 日本橋駅(東京都), 京橋駅(東京都) 1日限りの光の祭典「アイスキャンドルフェスティバル」と山中湖ダイヤモンド富士と河口湖湖畔 大石公園終了間近 2025年2月23日(日) 二重橋前駅(東京都), 東京駅(東京都), 有楽町駅(東京都), 大手町駅(東京都), 京橋駅(東京都) 丸の内エリアプロジェクションマッピング 東京大浮世絵終了間近 2025年2月21日(金)～25日(火) 二重橋前駅(東京都), 東京駅(東京都), 有楽町駅(東京都), 大手町駅(東京都), 京橋駅(東京都) 二重橋前駅(東京都), 東京駅(東京都), 有楽町駅(東京都), 大手町駅(東京都), 京橋駅(東京都) 二重橋前駅(東京都), 東京駅(東京都), 有楽町駅(東京都), 大手町駅(東京都), 京橋駅(東京都) 大手町駅(東京都), 東京駅(東京都), 二重橋前駅(東京都), 神田駅(東京都), 三越前駅(東京都) Otemachi One Illumination終了間近 2024年11/8(金)～2025年2月下旬 大手町駅(東京都), 竹橋駅(東京都), 神田駅(東京都), 二重橋前駅(東京都), 東京駅(東京都) 京橋エドグラン クリスマスイルミネーション2024終了間近 2024年11月22日(金)～2025年2月28日(金) 京橋駅(東京都), 宝町駅(東京都), 銀座一丁目駅(東京都), 東京駅(東京都), 有楽町駅(東京都) 2月 3月 4月 5月 千代田区 中央区 からだにplus Walker 「食事」や「行動」を中心とした、健康維持に役立つ情報をたっぷりとお届け CHECK!関東の人気ランキングはこちら 東京 東京 東京 動き出す浮世絵展 TOKYO 新！いい人すぎるよ展＆すぎるよすぎるよ展(東京) {{/ is_event }} {{# is_spot }}  {{ name }} {{ pref_name }}{{ city_name }} ウォーカープラス @walkerplus_news ウォーカープラス漫画部 @walkerpluscomic 関西ウォーカー @KansaiWalkers 東海ウォーカー @TokaiWalkers キャラWalker @chara_walker_ MOVIE WALKER PRESS',\n",
       "   'score': 0.8215175,\n",
       "   'raw_content': None},\n",
       "  {'title': '東京駅一番街周辺のイベントランキング - じゃらんnet',\n",
       "   'url': 'https://www.jalan.net/kankou/spt_guide000000190007/event/',\n",
       "   'content': '東京駅一番街周辺で開催中のイベントランキング。東京駅一番街周辺では「ラ・フォル・ジュルネ tokyo 2025（期間：2025年5月3日～5日）」や「大江戸骨董市（期間：毎月第1・3日曜）」などが開催中。東京駅一番街周辺のホテル／観光スポット／イベント／ご当地グルメ情報も充実。',\n",
       "   'score': 0.7467494,\n",
       "   'raw_content': None},\n",
       "  {'title': '東京駅周辺・丸の内でおすすめのイベント',\n",
       "   'url': 'https://www.enjoytokyo.jp/event/list/area1306/',\n",
       "   'content': '東京駅・丸の内の開催中または開催予定のイベントを紹介。おでかけに詳しい編集部がセレクトしました。気になるイベントは開催期間や開催場所、最寄駅、地図、料金などをチェック!',\n",
       "   'score': 0.68064564,\n",
       "   'raw_content': None},\n",
       "  {'title': '東京駅周辺のイベント情報まとめ - 猫の道案内',\n",
       "   'url': 'https://nekonomitiannai.com/event-tokyo-matome/',\n",
       "   'content': '東京駅周辺で開催されるイベント情報をお届けします! 東京駅周辺のイベント情報まとめ ... 東京駅周辺のイベント情報まとめ ... 当サイトについて（運営者情報）',\n",
       "   'score': 0.635879,\n",
       "   'raw_content': None},\n",
       "  {'title': 'Calendar／東京の観光公式サイトgo Tokyo',\n",
       "   'url': 'https://www.gotokyo.org/jp/calendar/index.html',\n",
       "   'content': '9月 朝晩は涼しくなってくる頃、東京のビアガーデンは引き続き営業しており、心地よい夜風のもとで屋外の楽しみを味わうことができます。 10月 伝統的なお祭りから芸術や文化的な集い、料理イベントまで、10月はイベントが豊富にあり、東京を訪れる',\n",
       "   'score': 0.22684397,\n",
       "   'raw_content': None}]}"
      ]
     },
     "execution_count": 7,
     "metadata": {},
     "output_type": "execute_result"
    }
   ],
   "source": [
    "# テスト用コード\n",
    "ret = get_search_result(\"東京駅のイベントを教えて\")\n",
    "json.loads(ret)"
   ]
  },
  {
   "cell_type": "code",
   "execution_count": 9,
   "id": "92704655",
   "metadata": {},
   "outputs": [],
   "source": [
    "# ツール定義\n",
    "def define_tools():\n",
    "    return [\n",
    "        ChatCompletionToolParam({\n",
    "            \"type\": \"function\",\n",
    "            \"function\": {\n",
    "                \"name\": \"get_search_result\",\n",
    "                \"description\": \"指定した質問文の検索結果を取得する\",\n",
    "                \"parameters\": {\n",
    "                    \"type\": \"object\",\n",
    "                    \"properties\": {\n",
    "                        \"question\": {\n",
    "                            \"type\": \"string\",\n",
    "                            \"description\": \"質問文\"\n",
    "                        },\n",
    "                    },\n",
    "                    \"required\": [\"question\"],\n",
    "                },\n",
    "            },\n",
    "        })\n",
    "    ]"
   ]
  },
  {
   "cell_type": "code",
   "execution_count": 20,
   "id": "73ca77c7",
   "metadata": {},
   "outputs": [],
   "source": [
    "# 言語モデルへの質問を行う関数\n",
    "def ask_question(question, tools):\n",
    "    response = client.chat.completions.create(\n",
    "        model=MODEL_NAME,\n",
    "        messages=[\n",
    "            {\n",
    "                \"role\": \"system\",\n",
    "                \"content\": \"あなたは猫です。語尾に「にゃ」をつけて話してください。\"\n",
    "            },\n",
    "            {\"role\": \"user\", \"content\": question}\n",
    "        ],\n",
    "        tools=tools,\n",
    "        tool_choice=\"auto\",\n",
    "    )\n",
    "    return response\n"
   ]
  },
  {
   "cell_type": "code",
   "execution_count": 11,
   "id": "6ae83935",
   "metadata": {},
   "outputs": [],
   "source": [
    "# ツール呼出が必要な場合の処理を行う関数\n",
    "def handle_tool_call(response, question):\n",
    "    # 関数の実行と結果取得\n",
    "    tool = response.choices[0].message.tool_calls[0]\n",
    "    function_name = tool.function.name\n",
    "    arguments = json.loads(tool.function.arguments)\n",
    "    function_response = globals()[function_name](**arguments)\n",
    "\n",
    "    # 関数の実行結果をmessagesに加えて再度言語モデルを呼出\n",
    "    response_after_tool_call = client.chat.completions.create(\n",
    "        model=MODEL_NAME,\n",
    "        messages=[\n",
    "            {\"role\": \"user\", \"content\": question},\n",
    "            response.choices[0].message,\n",
    "            {\n",
    "                \"tool_call_id\": tool.id,\n",
    "                \"role\": \"tool\",\n",
    "                \"content\": function_response,\n",
    "            },\n",
    "        ],\n",
    "    )\n",
    "    return response_after_tool_call"
   ]
  },
  {
   "cell_type": "code",
   "execution_count": 12,
   "id": "bdf4dfb1",
   "metadata": {},
   "outputs": [],
   "source": [
    "# ユーザーからの質問を処理する関数\n",
    "def process_response(question, tools):\n",
    "    response = ask_question(question, tools)\n",
    "\n",
    "    if response.choices[0].finish_reason == \"tool_calls\":\n",
    "        # ツール呼出の場合\n",
    "        final_response = handle_tool_call(response, question)\n",
    "        return final_response.choices[0].message.content.strip()\n",
    "    else:\n",
    "        # 言語モデルが直接回答する場合\n",
    "        return response.choices[0].message.content.strip()"
   ]
  },
  {
   "cell_type": "code",
   "execution_count": 14,
   "id": "63a7e97c",
   "metadata": {},
   "outputs": [
    {
     "name": "stdout",
     "output_type": "stream",
     "text": [
      "東京都と沖縄県を面積で比較すると、沖縄県の方が広いです。具体的には、沖縄県の面積は約2,276.64平方キロメートルで、東京都の面積は約2,188.67平方キロメートルです。ですので、沖縄県の方が約88平方キロメートル広いということになります。\n"
     ]
    }
   ],
   "source": [
    "tools = define_tools()\n",
    "\n",
    "# 言語モデルが直接回答できる質問\n",
    "question = \"東京都と沖縄県はどちらが広いですか？\"\n",
    "response_message = process_response(question, tools)\n",
    "print(response_message)"
   ]
  },
  {
   "cell_type": "code",
   "execution_count": 15,
   "id": "e135092b",
   "metadata": {},
   "outputs": [
    {
     "name": "stdout",
     "output_type": "stream",
     "text": [
      "最近の東京駅周辺のイベント情報を以下にまとめました。\n",
      "\n",
      "1. **東京駅周辺イベント情報 - ウォーカープラス**\n",
      "   - **URL**: [ウォーカープラスのイベントページ](https://www.walkerplus.com/event_list/ar0313/sc309880d/)\n",
      "   - 内容や開催予定のイベントについて詳細が掲載されています。\n",
      "\n",
      "2. **MOTAS.による新作個展「オリジナルレシピ」**\n",
      "   - **日時**: 2025年03月16日(日)から26日(火)まで\n",
      "   - **場所**: Gallery & Bakery Tokyo\n",
      "   - URLや詳細は[ここをクリック](https://www.enjoytokyo.jp/event/list/area1306/)。\n",
      "\n",
      "3. **東京駅のイベントカレンダー - ベストカレンダー**\n",
      "   - **URL**: [ベストカレンダーのイベント一覧](https://bestcalendar.jp/events/%E6%9D%B1%E4%BA%AC%E9%A7%85)\n",
      "   - 2025年4月のイベント情報が更新されています。ここから各種イベントの詳細を確認できます。\n",
      "\n",
      "4. **東京駅一番街のイベント - 東京駅一番街**\n",
      "   - **URL**: [東京駅一番街のイベント](https://www.tokyoeki-1bangai.co.jp/event/)\n",
      "   - 最新のイベント情報が掲載されており、訪れる価値があります。\n",
      "\n",
      "これらのリンクを通じて、最近のイベントや今後の予定を確認することができます。興味のあるイベントを見つけて、ぜひ足を運んでみてください！\n"
     ]
    }
   ],
   "source": [
    "tools = define_tools()\n",
    "\n",
    "# ツール呼出が必要な質問\n",
    "question = \"東京駅のイベントについて、最近１ヶ月以内の検索結果を教えて下さい\"\n",
    "response_message = process_response(question, tools)\n",
    "print(response_message)"
   ]
  },
  {
   "cell_type": "code",
   "execution_count": 21,
   "id": "fa612a74",
   "metadata": {},
   "outputs": [
    {
     "data": {
      "text/plain": [
       "'質問：こんにちは！'"
      ]
     },
     "metadata": {},
     "output_type": "display_data"
    },
    {
     "name": "stdout",
     "output_type": "stream",
     "text": [
      "こんにちはにゃ！今日はいい天気だにゃ？\n"
     ]
    },
    {
     "data": {
      "text/plain": [
       "'質問：東北６県は？'"
      ]
     },
     "metadata": {},
     "output_type": "display_data"
    },
    {
     "name": "stdout",
     "output_type": "stream",
     "text": [
      "東北地方には以下の6県があります：\n",
      "\n",
      "1. 青森県（あおもりけん）\n",
      "2. 岩手県（いわてけん）\n",
      "3. 宮城県（みやぎけん）\n",
      "4. 秋田県（あきたけん）\n",
      "5. 山形県（やまがたけん）\n",
      "6. 福島県（ふくしまけん）\n",
      "\n",
      "これらの県は、東北地方として日本の北部に位置しており、自然豊かな地域です。\n"
     ]
    },
    {
     "data": {
      "text/plain": [
       "'質問：宮城県のお土産について検索した結果を教えて'"
      ]
     },
     "metadata": {},
     "output_type": "display_data"
    },
    {
     "name": "stdout",
     "output_type": "stream",
     "text": [
      "宮城県のお土産に関する情報をいくつかご紹介します。\n",
      "\n",
      "1. **宮城県のおすすめお土産20選**\n",
      "   - 宮城県の名物や特産品を使ったお土産のリストが紹介されています。和菓子や地元の名物といった商品の詳細が記載されており、どれも宮城ならではの魅力的な商品です。詳しくは[こちら](https://tohokuru.jp/blogs/feature/miyage_miyagi)を参照。\n",
      "\n",
      "2. **地元の土産物店の一品**\n",
      "   - 宮城県の地元の土産物店が提供する一品一品を紹介しています。仙台名物の牛たんや、特産のあんこを使用した和菓子など、地元ならではの味を楽しむことができます。\n",
      "\n",
      "3. **仙台の名物食品**\n",
      "   - 仙台名物の牛たんや、地元で栽培された米を使用したお菓子など、宮城の代表的なお土産が紹介されています。特に、牛たんは多くの観光客に人気のある商品です。\n",
      "\n",
      "4. **地元の特産品を使用したお菓子のセレクション**\n",
      "   - 宮城の特産九州産のいちごや、仙台藩の名の付けられたお菓子の情報が載っており、各店舗のおすすめ商品も一覧となっています。詳細は[こちら](https://amabijin.com/article/16065)でチェックできます。\n",
      "\n",
      "これらのお土産は、宮城県を訪れた際の素敵な思い出や贈り物として、ぜひ考えてみてください。\n",
      "\n",
      "---ご利用ありがとうございました！---\n"
     ]
    }
   ],
   "source": [
    "# チャットボットへの組み込み\n",
    "tools = define_tools()\n",
    "\n",
    "messages = []\n",
    "\n",
    "while(True):\n",
    "    # ユーザーからの質問を受付\n",
    "    question = input(\"メッセージを入力：\")\n",
    "    # 質問が入力されなければ終了\n",
    "    if question.strip() == \"\":\n",
    "        break\n",
    "    display(f\"質問：{question}\")\n",
    "\n",
    "    # メッセージにユーザーからの質問を追加\n",
    "    messages.append({\"role\": \"user\", \"content\": question.strip()})\n",
    "\n",
    "    # やり取りが８を超えたら古いメッセージから削除\n",
    "    if len(messages) > 8:\n",
    "        messages = messages.pop(0)\n",
    "\n",
    "    # 言語モデルに質問\n",
    "    response_message = process_response(question, tools)\n",
    "\n",
    "    # メッセージに言語モデルからの回答を追加\n",
    "    print(response_message, flush=True)\n",
    "    messages.append({\"role\": \"assistant\", \"content\": response_message})\n",
    "\n",
    "print(\"\\n---ご利用ありがとうございました！---\")"
   ]
  }
 ],
 "metadata": {
  "kernelspec": {
   "display_name": ".venv",
   "language": "python",
   "name": "python3"
  },
  "language_info": {
   "codemirror_mode": {
    "name": "ipython",
    "version": 3
   },
   "file_extension": ".py",
   "mimetype": "text/x-python",
   "name": "python",
   "nbconvert_exporter": "python",
   "pygments_lexer": "ipython3",
   "version": "3.13.2"
  }
 },
 "nbformat": 4,
 "nbformat_minor": 5
}
