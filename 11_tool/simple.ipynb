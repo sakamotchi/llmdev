{
 "cells": [
  {
   "cell_type": "code",
   "execution_count": 1,
   "id": "0fbb249e",
   "metadata": {},
   "outputs": [],
   "source": [
    "# 必要なモジュールをインポート\n",
    "import os\n",
    "from dotenv import load_dotenv\n",
    "from openai import OpenAI\n",
    "from pprint import pprint\n",
    "\n",
    "# 環境変数の取得\n",
    "load_dotenv(\"../.env\")\n",
    "\n",
    "# OpenAI APIクライアントを生成\n",
    "client = OpenAI(api_key=os.environ['API_KEY'])\n",
    "\n",
    "# モデル名\n",
    "MODEL_NAME = \"gpt-4o-mini\""
   ]
  },
  {
   "cell_type": "code",
   "execution_count": 2,
   "id": "ffe8e010",
   "metadata": {},
   "outputs": [],
   "source": [
    "import json\n",
    "\n",
    "# 検索結果を返す関数の作成\n",
    "def get_search_result(keyword, when=\"1\", unit=\"m\"):\n",
    "    result = {\n",
    "        \"result\": [\n",
    "            {\"title\": \"1914年（大正3年）中央停車場改め「東京駅」として営業を開始しました\"},\n",
    "            {\"title\": \"1929年（昭和4年）八重洲口が開設されました\"},\n",
    "            {\"title\": \"2014年（平成26年）東京駅開業100周年を迎えました\"},\n",
    "        ]\n",
    "    }\n",
    "\n",
    "    return json.dumps(result)\n"
   ]
  },
  {
   "cell_type": "code",
   "execution_count": 4,
   "id": "fc6e90d6",
   "metadata": {},
   "outputs": [],
   "source": [
    "from openai.types.chat import ChatCompletionToolParam\n",
    "\n",
    "# ツールの定義\n",
    "tools = [\n",
    "    ChatCompletionToolParam({\n",
    "        \"type\": \"function\",\n",
    "        \"function\": {\n",
    "            \"name\": \"get_search_result\",\n",
    "            \"description\": \"指定したキーワードの検索結果を取得する\",\n",
    "            \"parameters\": {\n",
    "                \"type\": \"object\",\n",
    "                \"properties\": {\n",
    "                    \"keyword\": {\n",
    "                        \"type\": \"string\",\n",
    "                        \"description\": \"キーワード\",\n",
    "                    },\n",
    "                    \"when\": {\n",
    "                        \"type\": \"number\",\n",
    "                        \"description\": \"日付や時間の範囲\",\n",
    "                    },\n",
    "                    \"unit\": {\n",
    "                        \"type\": \"string\",\n",
    "                        \"enum\": [\"d\", \"h\", \"y\"]\n",
    "                    },\n",
    "                },\n",
    "                \"required\": [\"keyword\"],\n",
    "            },\n",
    "        },\n",
    "    })\n",
    "]\n"
   ]
  },
  {
   "cell_type": "code",
   "execution_count": 5,
   "id": "e361f723",
   "metadata": {},
   "outputs": [
    {
     "name": "stdout",
     "output_type": "stream",
     "text": [
      "{'_request_id': 'req_1ba0f3d7608198bfb7ec9844013b82ae',\n",
      " 'choices': [Choice(finish_reason='stop', index=0, logprobs=None, message=ChatCompletionMessage(content='日本の首都は東京都にあります。東京都は日本の政治、経済、文化の中心地であり、多くの重要な施設や観光名所があります。', refusal=None, role='assistant', audio=None, function_call=None, tool_calls=None, annotations=[]))],\n",
      " 'created': 1745803797,\n",
      " 'id': 'chatcmpl-BR7bhDLcQ1w1VSFHCdgws0acKqmRt',\n",
      " 'model': 'gpt-4o-mini-2024-07-18',\n",
      " 'object': 'chat.completion',\n",
      " 'service_tier': 'default',\n",
      " 'system_fingerprint': 'fp_0392822090',\n",
      " 'usage': CompletionUsage(completion_tokens=39, prompt_tokens=91, total_tokens=130, completion_tokens_details=CompletionTokensDetails(accepted_prediction_tokens=0, audio_tokens=0, reasoning_tokens=0, rejected_prediction_tokens=0), prompt_tokens_details=PromptTokensDetails(audio_tokens=0, cached_tokens=0))}\n"
     ]
    }
   ],
   "source": [
    "# 言語モデルが直接回答できる質問\n",
    "question = \"日本の首都はどこにありますか?\"\n",
    "\n",
    "response = client.chat.completions.create(\n",
    "    model=MODEL_NAME,\n",
    "    messages=[\n",
    "        {\n",
    "            \"role\": \"user\",\n",
    "            \"content\": question\n",
    "        },\n",
    "    ],\n",
    "    tools=tools,\n",
    "    tool_choice=\"auto\",\n",
    ")\n",
    "\n",
    "# レスポンスの表示\n",
    "pprint(vars(response))\n"
   ]
  },
  {
   "cell_type": "code",
   "execution_count": 6,
   "id": "a486e17b",
   "metadata": {},
   "outputs": [
    {
     "name": "stdout",
     "output_type": "stream",
     "text": [
      "{'_request_id': 'req_5e706ff45e2018f765739f536a2306e0',\n",
      " 'choices': [Choice(finish_reason='tool_calls', index=0, logprobs=None, message=ChatCompletionMessage(content=None, refusal=None, role='assistant', audio=None, function_call=None, tool_calls=[ChatCompletionMessageToolCall(id='call_rAWt4rolih8uJpsL7hHFfici', function=Function(arguments='{\"keyword\":\"東京駅 イベント\",\"when\":30,\"unit\":\"d\"}', name='get_search_result'), type='function')], annotations=[]))],\n",
      " 'created': 1745803901,\n",
      " 'id': 'chatcmpl-BR7dNJJ6004aIURzff1ShyULBnSFP',\n",
      " 'model': 'gpt-4o-mini-2024-07-18',\n",
      " 'object': 'chat.completion',\n",
      " 'service_tier': 'default',\n",
      " 'system_fingerprint': 'fp_0392822090',\n",
      " 'usage': CompletionUsage(completion_tokens=27, prompt_tokens=97, total_tokens=124, completion_tokens_details=CompletionTokensDetails(accepted_prediction_tokens=0, audio_tokens=0, reasoning_tokens=0, rejected_prediction_tokens=0), prompt_tokens_details=PromptTokensDetails(audio_tokens=0, cached_tokens=0))}\n"
     ]
    }
   ],
   "source": [
    "# ツール呼出が必要な質問\n",
    "question = \"東京駅のイベントについて、最近１ヶ月以内の検索結果を教えて下さい\"\n",
    "\n",
    "response = client.chat.completions.create(\n",
    "    model=MODEL_NAME,\n",
    "    messages=[\n",
    "        {\n",
    "            \"role\": \"user\",\n",
    "            \"content\": question\n",
    "        },\n",
    "    ],\n",
    "    tools=tools,\n",
    "    tool_choice=\"auto\",\n",
    ")\n",
    "\n",
    "# レスポンスの表示\n",
    "pprint(vars(response))"
   ]
  },
  {
   "cell_type": "code",
   "execution_count": 8,
   "id": "0f8da6c3",
   "metadata": {},
   "outputs": [
    {
     "name": "stdout",
     "output_type": "stream",
     "text": [
      "関数名：get_search_result\n",
      "引数：{'keyword': '東京駅 イベント', 'when': 30, 'unit': 'd'}\n",
      "関数の実行結果\n",
      "{'result': [{'title': '1914年（大正3年）中央停車場改め「東京駅」として営業を開始しました'},\n",
      "            {'title': '1929年（昭和4年）八重洲口が開設されました'},\n",
      "            {'title': '2014年（平成26年）東京駅開業100周年を迎えました'}]}\n",
      "言語モデルからの回答：\n",
      "('最近1ヶ月以内に東京駅で開催されたイベントに関する情報は以下の通りです：\\n'\n",
      " '\\n'\n",
      " '1. **1914年（大正3年）** - 中央停車場の改修が行われ、東京駅としての業務が開始されました。\\n'\n",
      " '2. **1929年（昭和4年）** - 八重洲口が開設されました。\\n'\n",
      " '3. **2014年（平成26年）** - 東京駅開業100周年を迎えたイベントが行われました。\\n'\n",
      " '\\n'\n",
      " 'これらの情報は過去の記念イベントや改修に関するもので、最近の具体的なイベント情報が提供されていないため、最新のイベントや催し物の詳細は公式ウェブサイトや関連情報を直接チェックすることをおすすめします。')\n"
     ]
    }
   ],
   "source": [
    "# モデルがツール呼出と判断した\n",
    "if response.choices[0].finish_reason == \"tool_calls\":\n",
    "    # 言語モデルの回答からツールを取得\n",
    "    tool = response.choices[0].message.tool_calls[0]\n",
    "\n",
    "    # 関数名の取得\n",
    "    function_name = tool.function.name\n",
    "    print(f\"関数名：{function_name}\")\n",
    "\n",
    "    # 引数の取得\n",
    "    arguments = json.loads(tool.function.arguments)\n",
    "    print(f\"引数：{arguments}\")\n",
    "\n",
    "    # 関数の実行\n",
    "    function_response = globals()[function_name](**arguments)\n",
    "    print(\"関数の実行結果\")\n",
    "    pprint(json.loads(function_response))\n",
    "\n",
    "    # 関数の実行結果をmessagesに加えて言語モデルを呼出\n",
    "    response_after_tool_call = client.chat.completions.create(\n",
    "        model=MODEL_NAME,\n",
    "        messages=[\n",
    "            {\n",
    "                \"role\": \"user\",\n",
    "                \"content\": question\n",
    "            },\n",
    "            response.choices[0].message,\n",
    "            {\n",
    "                \"tool_call_id\": tool.id,\n",
    "                \"role\": \"tool\",\n",
    "                \"content\": function_response,\n",
    "            },\n",
    "        ],\n",
    "    )\n",
    "\n",
    "    # 言語モデルからの回答を出力\n",
    "    print(\"言語モデルからの回答：\")\n",
    "    pprint(response_after_tool_call.choices[0].message.content.strip())\n",
    "\n",
    "else:\n",
    "    # 関数呼び出しでなければ、単に言語モデルからの回答を出力\n",
    "    print(\"言語モデルからの回答：\")\n",
    "    pprint(response.choices[0].message.content.strip())"
   ]
  }
 ],
 "metadata": {
  "kernelspec": {
   "display_name": ".venv",
   "language": "python",
   "name": "python3"
  },
  "language_info": {
   "codemirror_mode": {
    "name": "ipython",
    "version": 3
   },
   "file_extension": ".py",
   "mimetype": "text/x-python",
   "name": "python",
   "nbconvert_exporter": "python",
   "pygments_lexer": "ipython3",
   "version": "3.13.2"
  }
 },
 "nbformat": 4,
 "nbformat_minor": 5
}
