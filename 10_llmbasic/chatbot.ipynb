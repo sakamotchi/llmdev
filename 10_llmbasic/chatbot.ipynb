{
 "cells": [
  {
   "cell_type": "code",
   "execution_count": 1,
   "id": "cd976cb2",
   "metadata": {},
   "outputs": [],
   "source": [
    "# 必要なモジュールをインポート\n",
    "import os\n",
    "from dotenv import load_dotenv\n",
    "from openai import OpenAI\n",
    "from pprint import pprint\n",
    "\n",
    "# 環境変数の取得\n",
    "load_dotenv(\"../.env\")\n",
    "\n",
    "# OpenAI APIクライアントを生成\n",
    "client = OpenAI(api_key=os.environ['API_KEY'])\n",
    "\n",
    "# モデル名\n",
    "MODEL_NAME = \"gpt-4o-mini\""
   ]
  },
  {
   "cell_type": "code",
   "execution_count": 2,
   "id": "8a4c1eec",
   "metadata": {},
   "outputs": [
    {
     "data": {
      "text/plain": [
       "'質問: こんにちは'"
      ]
     },
     "metadata": {},
     "output_type": "display_data"
    },
    {
     "name": "stdout",
     "output_type": "stream",
     "text": [
      "こんにちは！今日はどんなことをお話ししましょうか？"
     ]
    },
    {
     "data": {
      "text/plain": [
       "'質問: 初心者におすすめのプログラミング言語を３つ教えて'"
      ]
     },
     "metadata": {},
     "output_type": "display_data"
    },
    {
     "name": "stdout",
     "output_type": "stream",
     "text": [
      "初心者におすすめのプログラミング言語は以下の3つです。\n",
      "\n",
      "1. **Python（パイソン）**:\n",
      "   - シンプルな文法と豊富なライブラリが特徴で、データサイエンス、ウェブ開発、機械学習など多くの分野で利用されています。学習コストが低く、初心者でも理解しやすい言語です。\n",
      "\n",
      "2. **JavaScript（ジャバスクリプト）**:\n",
      "   - ウェブ開発において非常に重要な言語で、ブラウザで動作します。インタラクティブなウェブサイトやアプリケーションを作成するのに最適です。基本的な文法が理解できれば、すぐに実践的なアプリケーションを作ることができます。\n",
      "\n",
      "3. **Scratch（スクラッチ）**:\n",
      "   - プログラミングの概念を視覚的に学ぶことができるビジュアルプログラミング言語です。特に子どもや初心者に適しており、ドラッグ＆ドロップでブロックを組み合わせてプログラムを作成できます。ゲームやアニメーションなどを作成する楽しさを通じて、プログラミングの基礎を学ぶことができます。\n",
      "\n",
      "これらの言語は初心者が学ぶのに適しており、実際のプロジェクトに応用しやすいため、興味を持ちながら学習を進めることができます。"
     ]
    },
    {
     "data": {
      "text/plain": [
       "'質問: １つめのプログラミング言語の名前は'"
      ]
     },
     "metadata": {},
     "output_type": "display_data"
    },
    {
     "name": "stdout",
     "output_type": "stream",
     "text": [
      "最初のプログラミング言語とされているのは「アセンブリ言語」ですが、一般的には「FORTRAN（フォートラン）」が初期の高級プログラミング言語として広く知られています。FORTRANは1957年に発表され、科学技術計算の分野で広く利用されるようになりました。その他にも、1920年代には「テューリングマシン」に基づいた理論的な言語が考案されていましたが、実用的なプログラミング言語としてはFORTRANが初期の代表例とされています。\n",
      "---ご利用ありがとうございました！---\n"
     ]
    }
   ],
   "source": [
    "# メッセージを格納するリスト\n",
    "\n",
    "while(True):\n",
    "    # ユーザーからの質問を受付\n",
    "    message = input(\"メッセージを入力：\")\n",
    "    # メッセージが入力されなければ終了\n",
    "    if message.strip() == \"\":\n",
    "        break\n",
    "    display(f\"質問: {message}\")\n",
    "\n",
    "    # メッセージにユーザーからの質問を追加\n",
    "    messages = [\n",
    "        {\n",
    "            \"role\": \"user\",\n",
    "            \"content\": message.strip()\n",
    "        }\n",
    "    ]\n",
    "    # やり取りが8を超えたら古いメッセージから削除\n",
    "    if len(messages) > 8:\n",
    "        messages = messages.pop(0)\n",
    "\n",
    "    # APIへリクエスト\n",
    "    stream = client.chat.completions.create(\n",
    "        model=MODEL_NAME,\n",
    "        messages=messages,\n",
    "        stream=True\n",
    "    )\n",
    "\n",
    "    # 言語モデルからの回答を表示\n",
    "    response_message = \"\"\n",
    "    for chunk in stream:\n",
    "        if chunk.choices:\n",
    "            next = chunk.choices[0].delta.content\n",
    "            if next is not None:\n",
    "                response_message += next\n",
    "                print(next, end=\"\", flush=True)\n",
    "    \n",
    "    # メッセージに言語モデルからの回答を追加\n",
    "    messages.append(\n",
    "        {\n",
    "            \"role\": \"assistant\",\n",
    "            \"content\": response_message\n",
    "        }\n",
    "    )\n",
    "\n",
    "print(\"\\n---ご利用ありがとうございました！---\")"
   ]
  }
 ],
 "metadata": {
  "kernelspec": {
   "display_name": ".venv",
   "language": "python",
   "name": "python3"
  },
  "language_info": {
   "codemirror_mode": {
    "name": "ipython",
    "version": 3
   },
   "file_extension": ".py",
   "mimetype": "text/x-python",
   "name": "python",
   "nbconvert_exporter": "python",
   "pygments_lexer": "ipython3",
   "version": "3.13.2"
  }
 },
 "nbformat": 4,
 "nbformat_minor": 5
}
