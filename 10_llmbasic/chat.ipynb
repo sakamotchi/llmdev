{
 "cells": [
  {
   "cell_type": "code",
   "execution_count": 1,
   "id": "5e9c7148",
   "metadata": {},
   "outputs": [],
   "source": [
    "# 必要なモジュールをインポート\n",
    "import os\n",
    "from dotenv import load_dotenv\n",
    "from openai import OpenAI\n",
    "from pprint import pprint\n",
    "\n",
    "# 環境変数の取得\n",
    "load_dotenv(\"../.env\")\n",
    "\n",
    "# OpenAI APIクライアントを生成\n",
    "client = OpenAI(api_key=os.environ['API_KEY'])\n",
    "\n",
    "# モデル名\n",
    "MODEL_NAME = \"gpt-4o-mini\""
   ]
  },
  {
   "cell_type": "code",
   "execution_count": 3,
   "id": "91cc9e89",
   "metadata": {},
   "outputs": [
    {
     "name": "stdout",
     "output_type": "stream",
     "text": [
      "{'_request_id': 'req_c1976c6dc1b7f02d1a3d559ff6f25f03',\n",
      " 'choices': [Choice(finish_reason='stop', index=0, logprobs=None, message=ChatCompletionMessage(content='言語モデルを効果的に使うためのポイントはいくつかあります。以下に主な点を挙げます。\\n\\n1. **目的の明確化**: モデルを使う目的を明確にすることで、どのような質問やタスクに対して使うべきかが分かります。例えば、情報の検索、文章の生成、要約など、目的に応じて使い方が異なります。\\n\\n2. **具体的なプロンプトの作成**: モデルへの入力（プロンプト）は具体的であるほど、期待する結果が得やすくなります。必要な情報を具体的に伝えることで、より的確な応答が得られます。\\n\\n3. **コンテキストの提供**: 以前の対話や関連情報をコンテキストとして提供することで、モデルはより適切な応答を生成できます。特に長い会話や複雑なトピックにおいては重要です。\\n\\n4. **利用制限の理解**: モデルには限界があり、必ずしも正確な情報を提供するわけではありません。特に事実確認が重要な場面では、他の信頼できる情報源と併用することが大切です。\\n\\n5. **フィードバックの活用**: モデルの出力を評価し、必要に応じて修正や改良を行うことで、次回以降により良い結果を引き出すことができます。\\n\\n6. **倫理的な配慮**: モデルを使用する際には、プライバシーや誤情報、偏見などに配慮することが重要です。特に公共の場での利用やビジネスにおいては、倫理基準を守ることが求められます。\\n\\n7. **継続的な学習**: 言語モデルやその使用法は進化していますので、最新の情報や技術に関心を持ち、学び続ける姿勢が重要です。\\n\\nこれらのポイントを考慮することで、言語モデルをより効果的に活用することができるでしょう。', refusal=None, role='assistant', audio=None, function_call=None, tool_calls=None, annotations=[]))],\n",
      " 'created': 1745732795,\n",
      " 'id': 'chatcmpl-BQp8V9uLbUscHsufUUQnDiKIOopjV',\n",
      " 'model': 'gpt-4o-mini-2024-07-18',\n",
      " 'object': 'chat.completion',\n",
      " 'service_tier': 'default',\n",
      " 'system_fingerprint': 'fp_129a36352a',\n",
      " 'usage': CompletionUsage(completion_tokens=498, prompt_tokens=18, total_tokens=516, completion_tokens_details=CompletionTokensDetails(accepted_prediction_tokens=0, audio_tokens=0, reasoning_tokens=0, rejected_prediction_tokens=0), prompt_tokens_details=PromptTokensDetails(audio_tokens=0, cached_tokens=0))}\n"
     ]
    }
   ],
   "source": [
    "# メッセージの設定\n",
    "message = \"言語モデルを使う上でのポイントは\"\n",
    "\n",
    "# APIへリクエスト\n",
    "response = client.chat.completions.create(\n",
    "    model=MODEL_NAME,\n",
    "    messages=[\n",
    "        {\"role\": \"user\", \"content\": message}\n",
    "    ]\n",
    ")\n",
    "\n",
    "# レスポンスの表示\n",
    "pprint(vars(response))"
   ]
  },
  {
   "cell_type": "code",
   "execution_count": 4,
   "id": "5b884693",
   "metadata": {},
   "outputs": [
    {
     "name": "stdout",
     "output_type": "stream",
     "text": [
      "言語モデルを効果的に使うためのポイントはいくつかあります。以下に主な点を挙げます。\n",
      "\n",
      "1. **目的の明確化**: モデルを使う目的を明確にすることで、どのような質問やタスクに対して使うべきかが分かります。例えば、情報の検索、文章の生成、要約など、目的に応じて使い方が異なります。\n",
      "\n",
      "2. **具体的なプロンプトの作成**: モデルへの入力（プロンプト）は具体的であるほど、期待する結果が得やすくなります。必要な情報を具体的に伝えることで、より的確な応答が得られます。\n",
      "\n",
      "3. **コンテキストの提供**: 以前の対話や関連情報をコンテキストとして提供することで、モデルはより適切な応答を生成できます。特に長い会話や複雑なトピックにおいては重要です。\n",
      "\n",
      "4. **利用制限の理解**: モデルには限界があり、必ずしも正確な情報を提供するわけではありません。特に事実確認が重要な場面では、他の信頼できる情報源と併用することが大切です。\n",
      "\n",
      "5. **フィードバックの活用**: モデルの出力を評価し、必要に応じて修正や改良を行うことで、次回以降により良い結果を引き出すことができます。\n",
      "\n",
      "6. **倫理的な配慮**: モデルを使用する際には、プライバシーや誤情報、偏見などに配慮することが重要です。特に公共の場での利用やビジネスにおいては、倫理基準を守ることが求められます。\n",
      "\n",
      "7. **継続的な学習**: 言語モデルやその使用法は進化していますので、最新の情報や技術に関心を持ち、学び続ける姿勢が重要です。\n",
      "\n",
      "これらのポイントを考慮することで、言語モデルをより効果的に活用することができるでしょう。\n"
     ]
    }
   ],
   "source": [
    "# 言語モデルからの回答を表示\n",
    "print(response.choices[0].message.content.strip())"
   ]
  },
  {
   "cell_type": "code",
   "execution_count": 5,
   "id": "94422842",
   "metadata": {},
   "outputs": [
    {
     "name": "stdout",
     "output_type": "stream",
     "text": [
      "新製品の発売に向けた効果的なマーケティング戦略には、以下のステップが考えられます：\n",
      "\n",
      "### 1. 市場調査\n",
      "- **ターゲット市場の特定**: 新製品がどの顧客層に受け入れられるかを分析します。性別、年齢、地域、ライフスタイルなどのデモグラフィック情報を把握します。\n",
      "- **競合分析**: 同カテゴリの競合製品を調査し、どのような強みや弱みがあるかを理解します。\n",
      "\n",
      "### 2. ポジショニング\n",
      "- **ユニークな販売提案（USP）の確立**: 競合製品と差別化するポイントを明確にし、なぜ顧客がこの製品を選ぶべきなのかを伝えます。\n",
      "\n",
      "### 3. プリ・ローンチ活動\n",
      "- **ティーザーキャンペーン**: 製品に対する期待感を高めるためのティーザー広告を展開します。SNSやメールマーケティングを活用して、情報を少しずつ公開していきます。\n",
      "- **ベータテスト**: 限定的な顧客に製品を試してもらい、フィードバックを収集します。このフィードバックを基に最終調整を行います。\n",
      "\n",
      "### 4. 発売戦略\n",
      "- **ローンチイベントの企画**: 製品発売日にイベントを実施し、メディアやインフルエンサーを招待して注目を集めます。\n",
      "- **PR活動**: プレスリリースやメディアリーチを利用して、幅広い報道機会を獲得します。\n",
      "\n",
      "### 5. デジタルマーケティング\n",
      "- **SNS広告**: ターゲットに合わせた広告キャンペーンを展開し、製品の認知度を高めます。\n",
      "- **コンテンツマーケティング**: 製品の特長や利点を紹介するブログ記事、ビデオ、インフォグラフィックなどを作成し、有益な情報を提供します。\n",
      "\n",
      "### 6. フィードバックと改善\n",
      "- **顧客の声を聞く**: 初期の購入者からのレビューやフィードバックをモニタリングし、必要に応じて製品やマーケティング戦略を調整します。\n",
      "\n",
      "### 7. リテンション戦略\n",
      "- **ロイヤルティプログラムの実施**: 顧客がリピーターになるよう、特典やポイント制度を導入して顧客の保持を図ります。\n",
      "- **アフターサービスの充実**: 購入後のフォローアップやサポートを行うことで顧客満足度を高めます。\n",
      "\n",
      "これらのステップを通じて、新製品の市場投入を成功させ、持続可能な成長を促進することができます。\n"
     ]
    }
   ],
   "source": [
    "# 役割や前提の設定\n",
    "role = \"あなたはマーケティング分野に精通したビジネスコンサルタントです。企業の成長をサポートするために、効果的なマーケティング戦略を提供します。\"\n",
    "\n",
    "# メッセージの設定\n",
    "message = \"新製品の発売に向けた効果的なマーケティング戦略を教えてください。\"\n",
    "\n",
    "# APIへリクエスト\n",
    "response = client.chat.completions.create(\n",
    "    model=MODEL_NAME,\n",
    "    messages=[\n",
    "        {\"role\": \"system\", \"content\": role},\n",
    "        {\"role\": \"user\", \"content\": message},\n",
    "    ],\n",
    ")\n",
    "\n",
    "# 言語モデルからの回答を表示\n",
    "print(response.choices[0].message.content.strip())"
   ]
  },
  {
   "cell_type": "code",
   "execution_count": 9,
   "id": "a68dc8c8",
   "metadata": {},
   "outputs": [
    {
     "name": "stdout",
     "output_type": "stream",
     "text": [
      "--------------------\n",
      "日本はその豊かな文化、歴史、美しい自然など、多くの魅力を持つ国です。以下にいくつかの日本の魅力を紹介します。\n",
      "\n",
      "### 1. 歴史と文化\n",
      "- **伝統的な祭り**: 日本各地で行われる伝統的な祭りやイベント（例：祇園祭、ねぶた祭り）は、その地域の文化を体験する絶好の機\n",
      "--------------------\n",
      "日本は多様な魅力が詰まった国で、歴史、文化、自然、美食などさまざまな面において独自の特徴を持っています。以下にいくつかの日本の魅力をご紹介します。\n",
      "\n",
      "### 1. 歴史と文化\n",
      "- **伝統的建築**: 古都京都や奈良には美しい神社や寺院があります。例えば、金閣寺や清水\n",
      "--------------------\n",
      "日本は、独自の文化や歴史、美しい自然景観、おいしい食べ物など、多くの魅力にあふれています。以下に代表的なポイントをいくつか紹介します。\n",
      "\n",
      "### 1. 歴史と文化\n",
      "- **伝統**: 日本には長い歴史があり、古都京都や奈良では神社仏閣や伝統的な家屋（町家）が残されています。\n",
      "-\n"
     ]
    }
   ],
   "source": [
    "# 出力の多様性\n",
    "message = \"日本の魅力を紹介して\"\n",
    "\n",
    "# APIへリクエスト\n",
    "response = client.chat.completions.create(\n",
    "    model=MODEL_NAME,\n",
    "    messages=[\n",
    "        {\"role\": \"user\", \"content\": message}\n",
    "    ],\n",
    "    presence_penalty=2.0,\n",
    "    n=3,\n",
    "    max_completion_tokens=100,\n",
    ")\n",
    "\n",
    "# 結果を表示（複数回答を比較）\n",
    "for choice in response.choices:\n",
    "    print(\"-\" * 20)\n",
    "    print(choice.message.content.strip())"
   ]
  },
  {
   "cell_type": "code",
   "execution_count": 10,
   "id": "f7dcfb9c",
   "metadata": {},
   "outputs": [
    {
     "name": "stdout",
     "output_type": "stream",
     "text": [
      "tokens_count=2\n",
      "tokens=[95839, 3393]\n"
     ]
    }
   ],
   "source": [
    "import tiktoken\n",
    "from tiktoken import Encoding\n",
    "\n",
    "# OpenAI API の特定のモデルに対応するトークナイザーを取得\n",
    "encoding: Encoding = tiktoken.encoding_for_model(MODEL_NAME)\n",
    "\n",
    "# テキストをトークンIDのリストに変換\n",
    "tokens = encoding.encode(\"こんにちは！\")\n",
    "tokens_count = len(tokens)\n",
    "\n",
    "# トークンの長さとトークンIDを表示\n",
    "print(f\"{tokens_count=}\")\n",
    "print(f\"{tokens=}\")"
   ]
  },
  {
   "cell_type": "code",
   "execution_count": 11,
   "id": "df172bd1",
   "metadata": {},
   "outputs": [
    {
     "name": "stdout",
     "output_type": "stream",
     "text": [
      "--------------------\n",
      "B: あ！Aさん！こんにちは！最近どうしてる？\n",
      "--------------------\n",
      "B: こんにちは、Aさん！元気でしたか？\n",
      "--------------------\n",
      "B: あ！Aさん！こんにちは！元気でしたか？\n"
     ]
    }
   ],
   "source": [
    "# トークンの選択度合い\n",
    "message = \"\"\"\n",
    "AさんとBさんで会話してください。\n",
    "A:あ、Bさんだ。\n",
    "B:\n",
    "\"\"\"\n",
    "\n",
    "# APIへリクエスト\n",
    "response = client.chat.completions.create(\n",
    "    model=MODEL_NAME,\n",
    "    messages=[\n",
    "        {\"role\": \"user\", \"content\": message}\n",
    "    ],\n",
    "    max_tokens=100,\n",
    "    n=3,\n",
    "    logit_bias={95389:8, 3393:8}\n",
    ")\n",
    "\n",
    "# 結果を表示\n",
    "for choice in response.choices:\n",
    "    print(\"-\" * 20)\n",
    "    print(choice.message.content.strip())"
   ]
  },
  {
   "cell_type": "code",
   "execution_count": 12,
   "id": "df41ae4e",
   "metadata": {},
   "outputs": [
    {
     "name": "stdout",
     "output_type": "stream",
     "text": [
      "言語モデルを効果的に使うためのポイントはいくつかあります。以下にその主なポイントを挙げます。\n",
      "\n",
      "1. **明確な目的を持つ**:\n",
      "   - 何を達成したいのかを明確にすることが重要です。情報検索、文章生成、質問応答など、目的によって使い方が異なります。\n",
      "\n",
      "2. **入力の工夫**:\n",
      "   - モデルに与えるプロンプト（入力文）が結果に大きく影響します。具体的かつ明確な指示を与えることで、期待する結果が得やすくなります。\n",
      "\n",
      "3. **コンテキストの提供**:\n",
      "   - 必要に応じて十分な文脈情報を提供することが重要です。モデルは文脈を理解する能力がありますが、特定の情報が欠けていると望んだ結果が得られないことがあります。\n",
      "\n",
      "4. **トライアンドエラー**:\n",
      "   - モデルの出力は一回の試行で完璧ではないことが多いです。何度も試行し、プロンプトを調整することでより良い結果を得られることがあります。\n",
      "\n",
      "5. **倫理的な配慮**:\n",
      "   - 言語モデルを使用する際には、偏見や不適切なコンテンツに注意が必要です。結果を批判的に考察し、必要に応じてフィルタリングを行うことが重要です。\n",
      "\n",
      "6. **ユーザーとのインタラクション**:\n",
      "   - モデルを使うアプリケーションでは、ユーザーとのインタラクションを考慮し、分かりやすく、使いやすいインターフェースを提供することが求められます。\n",
      "\n",
      "7. **結果の評価**:\n",
      "   - 得られた出力を客観的に評価し、必要に応じて手動で修正したり、補完したりすることが重要です。完全に自動化された判断に依存しないようにしましょう。\n",
      "\n",
      "8. **技術の理解**:\n",
      "   - モデルの限界や特性を理解することが重要です。特定のトピックに関する知識が限られていることや、最近のイベントに関する情報がない場合があることを認識しておきましょう。\n",
      "\n",
      "これらのポイントを考慮することで、言語モデルをより効果的に活用できるでしょう。"
     ]
    }
   ],
   "source": [
    "# メッセージの設定\n",
    "message = \"言語モデルを使う上でのポイントは\"\n",
    "\n",
    "# APIへリクエスト\n",
    "stream = client.chat.completions.create(\n",
    "    model=MODEL_NAME,\n",
    "    messages=[\n",
    "        {\"role\": \"user\", \"content\": message},\n",
    "    ],\n",
    "    stream=True,\n",
    ")\n",
    "\n",
    "for chunk in stream:\n",
    "    if chunk.choices:\n",
    "        if chunk.choices[0].delta.content is not None:\n",
    "            print(chunk.choices[0].delta.content, end=\"\")"
   ]
  }
 ],
 "metadata": {
  "kernelspec": {
   "display_name": ".venv",
   "language": "python",
   "name": "python3"
  },
  "language_info": {
   "codemirror_mode": {
    "name": "ipython",
    "version": 3
   },
   "file_extension": ".py",
   "mimetype": "text/x-python",
   "name": "python",
   "nbconvert_exporter": "python",
   "pygments_lexer": "ipython3",
   "version": "3.13.2"
  }
 },
 "nbformat": 4,
 "nbformat_minor": 5
}
