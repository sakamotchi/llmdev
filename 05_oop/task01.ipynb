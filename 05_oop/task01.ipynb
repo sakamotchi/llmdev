{
 "cells": [
  {
   "cell_type": "code",
   "execution_count": 3,
   "id": "4dcba916",
   "metadata": {},
   "outputs": [],
   "source": [
    "class BankAccount:\n",
    "    def __init__(self, balance):\n",
    "        self.__balance = balance\n",
    "    \n",
    "    # 預け入れメソッド\n",
    "    def deposit(self, amount):\n",
    "        # amountが負の数の場合はエラーを出す\n",
    "        if amount < 0:\n",
    "            print(\"エラー：　正しい金額を入力してください\")\n",
    "            return\n",
    "        # 預け入れ金額を加算\n",
    "        self.__balance += amount\n",
    "    \n",
    "    # 引き出しメソッド\n",
    "    def withdraw(self, amount):\n",
    "        # amountが負の数の場合と残高不足の場合はエラーを出す\n",
    "        if amount < 0 or amount > self.__balance:\n",
    "            print(\"エラー：　正しい金額を入力してください\")\n",
    "            return\n",
    "        # 引き出し金額を減算\n",
    "        self.__balance -= amount\n",
    "    \n",
    "    # 残高照会メソッド\n",
    "    def get_balance(self):\n",
    "        return self.__balance\n"
   ]
  },
  {
   "cell_type": "code",
   "execution_count": 5,
   "id": "7e2b09c8",
   "metadata": {},
   "outputs": [
    {
     "name": "stdout",
     "output_type": "stream",
     "text": [
      "1300\n",
      "エラー：　正しい金額を入力してください\n"
     ]
    }
   ],
   "source": [
    "# 呼び出し側\n",
    "\n",
    "# 初期残高１０００円でBankAccountクラスのインスタンスを作成\n",
    "account = BankAccount(1000)\n",
    "# 500円預け入れ\n",
    "account.deposit(500)\n",
    "# 200円引き出し\n",
    "account.withdraw(200)\n",
    "# 残高照会\n",
    "print(account.get_balance())\n",
    "# 1500円引き出し\n",
    "account.withdraw(1500)"
   ]
  }
 ],
 "metadata": {
  "kernelspec": {
   "display_name": ".venv",
   "language": "python",
   "name": "python3"
  },
  "language_info": {
   "codemirror_mode": {
    "name": "ipython",
    "version": 3
   },
   "file_extension": ".py",
   "mimetype": "text/x-python",
   "name": "python",
   "nbconvert_exporter": "python",
   "pygments_lexer": "ipython3",
   "version": "3.13.2"
  }
 },
 "nbformat": 4,
 "nbformat_minor": 5
}
