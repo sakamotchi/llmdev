{
 "cells": [
  {
   "cell_type": "code",
   "execution_count": null,
   "id": "4f107934",
   "metadata": {},
   "outputs": [],
   "source": [
    "# クラスの定義\n",
    "class Dog:\n",
    "    # クラスの属性\n",
    "    species = \"イヌ科イヌ属\"  # 属名（クラス変数）\n",
    "\n",
    "    # 初期化メソッド（コンストラクタ）\n",
    "    def __init__(self, name, age):\n",
    "        # インスタンスの属性\n",
    "        self.name = name  # 犬の名前\n",
    "        self.age = age    # 犬の年齢\n",
    "\n",
    "    # メソッド\n",
    "    def bark(self):\n",
    "        return f\"{self.name}、{self.age}歳だよ。ワン！\""
   ]
  }
 ],
 "metadata": {
  "kernelspec": {
   "display_name": ".venv",
   "language": "python",
   "name": "python3"
  },
  "language_info": {
   "name": "python",
   "version": "3.13.2"
  }
 },
 "nbformat": 4,
 "nbformat_minor": 5
}
