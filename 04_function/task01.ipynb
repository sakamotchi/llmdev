{
 "cells": [
  {
   "cell_type": "code",
   "execution_count": 4,
   "id": "c7802573",
   "metadata": {},
   "outputs": [
    {
     "name": "stdout",
     "output_type": "stream",
     "text": [
      "エラー： ユーザー名に空白を含めることはできません\n",
      "不正なユーザー名です。\n"
     ]
    }
   ],
   "source": [
    "# ユーザー名をバリデーションする関数\n",
    "# ユーザー名は５文字以上１５文字以内\n",
    "# ユーザー名に空白は使えない\n",
    "# ユーザー名は英数字のみ\n",
    "def validate_username(username):\n",
    "    if len(username) < 5 or len(username) > 15:\n",
    "        print(\"エラー： ユーザー名は5文字以上15文字以内で入力してください。\")\n",
    "        return False\n",
    "    if ' ' in username:\n",
    "        print(\"エラー： ユーザー名に空白を含めることはできません\")\n",
    "        return False\n",
    "    if not username.isalnum():\n",
    "        print(\"エラー： ユーザー名は英数字のみ使用できます。\")\n",
    "        return False\n",
    "    return True\n",
    "\n",
    "# ユーザー名を取得\n",
    "username = input(\"ユーザー名を入力してください： \")\n",
    "# バリデーションを実行\n",
    "if validate_username(username):\n",
    "    print(\"ユーザー名は有効です。\")\n",
    "else:\n",
    "    print(\"不正なユーザー名です。\")"
   ]
  }
 ],
 "metadata": {
  "kernelspec": {
   "display_name": ".venv",
   "language": "python",
   "name": "python3"
  },
  "language_info": {
   "codemirror_mode": {
    "name": "ipython",
    "version": 3
   },
   "file_extension": ".py",
   "mimetype": "text/x-python",
   "name": "python",
   "nbconvert_exporter": "python",
   "pygments_lexer": "ipython3",
   "version": "3.13.2"
  }
 },
 "nbformat": 4,
 "nbformat_minor": 5
}
