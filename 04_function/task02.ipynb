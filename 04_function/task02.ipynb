{
 "cells": [
  {
   "cell_type": "code",
   "execution_count": 1,
   "id": "b743fece",
   "metadata": {},
   "outputs": [
    {
     "name": "stdout",
     "output_type": "stream",
     "text": [
      "Content saved in: 20250413_112958.txt\n"
     ]
    }
   ],
   "source": [
    "import datetime\n",
    "import urllib.request\n",
    "\n",
    "def save_url_content(url):\n",
    "    response = urllib.request.urlopen(url)\n",
    "    html = response.read().decode('utf-8')\n",
    "    # 日時のファイル名で保存。フォーマットはYYYYMMDD_HHMMSS.txt\n",
    "    filename = datetime.datetime.now().strftime('%Y%m%d_%H%M%S') + '.txt'\n",
    "    with open(filename, 'w') as f:\n",
    "        f.write(html[:500])\n",
    "    return filename\n",
    "\n",
    "\n",
    "url = input(\"URLを入力してください: \")\n",
    "file_name = save_url_content(url)\n",
    "print(f\"Content saved in: {file_name}\")"
   ]
  }
 ],
 "metadata": {
  "kernelspec": {
   "display_name": ".venv",
   "language": "python",
   "name": "python3"
  },
  "language_info": {
   "codemirror_mode": {
    "name": "ipython",
    "version": 3
   },
   "file_extension": ".py",
   "mimetype": "text/x-python",
   "name": "python",
   "nbconvert_exporter": "python",
   "pygments_lexer": "ipython3",
   "version": "3.13.2"
  }
 },
 "nbformat": 4,
 "nbformat_minor": 5
}
