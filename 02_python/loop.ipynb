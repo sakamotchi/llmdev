{
 "cells": [
  {
   "cell_type": "code",
   "execution_count": 1,
   "id": "6e455485",
   "metadata": {},
   "outputs": [
    {
     "name": "stdout",
     "output_type": "stream",
     "text": [
      "0\n",
      "1\n",
      "2\n",
      "3\n",
      "4\n",
      "5\n",
      "6\n",
      "7\n",
      "8\n",
      "9\n",
      "10\n"
     ]
    }
   ],
   "source": [
    "for i in range(11):\n",
    "    print(i)"
   ]
  },
  {
   "cell_type": "code",
   "execution_count": 2,
   "id": "b8222fbd",
   "metadata": {},
   "outputs": [
    {
     "name": "stdout",
     "output_type": "stream",
     "text": [
      "2\n",
      "4\n",
      "6\n",
      "8\n",
      "10\n",
      "12\n",
      "14\n",
      "16\n",
      "18\n",
      "20\n"
     ]
    }
   ],
   "source": [
    "for i in range(2, 21, 2):\n",
    "    print(i)\n"
   ]
  },
  {
   "cell_type": "code",
   "execution_count": 3,
   "id": "f28c4dd7",
   "metadata": {},
   "outputs": [
    {
     "name": "stdout",
     "output_type": "stream",
     "text": [
      "1\n",
      "2\n",
      "3\n",
      "4\n",
      "5\n",
      "6\n",
      "7\n",
      "8\n",
      "9\n",
      "10\n",
      "処理を終了します\n"
     ]
    }
   ],
   "source": [
    "i = 0\n",
    "\n",
    "while i < 10:\n",
    "    i += 1\n",
    "    print(i)\n",
    "\n",
    "print(\"処理を終了します\")"
   ]
  },
  {
   "cell_type": "code",
   "execution_count": 4,
   "id": "8e1644a0",
   "metadata": {},
   "outputs": [
    {
     "name": "stdout",
     "output_type": "stream",
     "text": [
      "1\n",
      "2\n",
      "3\n",
      "4\n",
      "5\n",
      "6\n",
      "7\n",
      "8\n",
      "9\n",
      "10\n",
      "処理を終了します\n"
     ]
    }
   ],
   "source": [
    "i = 0\n",
    "\n",
    "while True:\n",
    "    i += 1\n",
    "\n",
    "    if i > 10:\n",
    "        break\n",
    "\n",
    "    print(i)\n",
    "\n",
    "print(\"処理を終了します\")"
   ]
  },
  {
   "cell_type": "code",
   "execution_count": 5,
   "id": "ceaf37b5",
   "metadata": {},
   "outputs": [
    {
     "name": "stdout",
     "output_type": "stream",
     "text": [
      "2\n",
      "4\n",
      "6\n",
      "8\n",
      "10\n",
      "処理を終了します\n"
     ]
    }
   ],
   "source": [
    "i = 0\n",
    "\n",
    "while True:\n",
    "    i += 1\n",
    "\n",
    "    if i > 10:\n",
    "        break\n",
    "\n",
    "    if i % 2 == 1:\n",
    "        continue\n",
    "\n",
    "    print(i)\n",
    "\n",
    "print(\"処理を終了します\")"
   ]
  }
 ],
 "metadata": {
  "kernelspec": {
   "display_name": ".venv",
   "language": "python",
   "name": "python3"
  },
  "language_info": {
   "codemirror_mode": {
    "name": "ipython",
    "version": 3
   },
   "file_extension": ".py",
   "mimetype": "text/x-python",
   "name": "python",
   "nbconvert_exporter": "python",
   "pygments_lexer": "ipython3",
   "version": "3.13.2"
  }
 },
 "nbformat": 4,
 "nbformat_minor": 5
}
