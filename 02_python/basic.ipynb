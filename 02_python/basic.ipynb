{
 "cells": [
  {
   "cell_type": "code",
   "execution_count": 1,
   "id": "78ba9b02",
   "metadata": {},
   "outputs": [
    {
     "name": "stdout",
     "output_type": "stream",
     "text": [
      "３科目の平均点は 83.33333333333333 点です。\n"
     ]
    }
   ],
   "source": [
    "# 各教科の点数を変数に代入\n",
    "japanese = 85\n",
    "math = 90\n",
    "english = 75\n",
    "\n",
    "# 平均点を計算\n",
    "average = (japanese + math + english) / 3\n",
    "\n",
    "# 結果を表示\n",
    "print(\"３科目の平均点は\", average, \"点です。\")\n"
   ]
  },
  {
   "cell_type": "code",
   "execution_count": 2,
   "id": "21e8bc20",
   "metadata": {},
   "outputs": [
    {
     "name": "stdout",
     "output_type": "stream",
     "text": [
      "a < b: True\n",
      "a == b: False\n"
     ]
    }
   ],
   "source": [
    "# 比較演算\n",
    "a = 5\n",
    "b = 10\n",
    "\n",
    "# aがbより小さいかどうかを比較\n",
    "result = a < b  # これはTrue\n",
    "\n",
    "# aとbが等しいかどうかを比較\n",
    "equal_result = a == b  # これはFalse\n",
    "\n",
    "print(\"a < b:\", result)\n",
    "print(\"a == b:\", equal_result)"
   ]
  },
  {
   "cell_type": "code",
   "execution_count": 3,
   "id": "7938e824",
   "metadata": {},
   "outputs": [
    {
     "name": "stdout",
     "output_type": "stream",
     "text": [
      "False\n",
      "True\n",
      "False\n",
      "True\n"
     ]
    }
   ],
   "source": [
    "# ブール値に変換される値の例\n",
    "print(bool(0))  # False\n",
    "print(bool(1))  # True\n",
    "print(bool(\"\"))  # False（空の文字列はFalse）\n",
    "print(bool(\"Hello\"))  # True（非空の文字列はTrue）"
   ]
  },
  {
   "cell_type": "code",
   "execution_count": 4,
   "id": "7d01ac3e",
   "metadata": {},
   "outputs": [
    {
     "name": "stdout",
     "output_type": "stream",
     "text": [
      "2\n",
      "10\n",
      "5\n"
     ]
    }
   ],
   "source": [
    "# True は 1 として扱われ、False は 0 として扱われる\n",
    "print(True + True)  # 1 + 1 = 2\n",
    "print(True * 10)  # 1 * 10 = 10\n",
    "print(False + 5)  # 0 + 5 = 5"
   ]
  },
  {
   "cell_type": "code",
   "execution_count": 5,
   "id": "48216b51",
   "metadata": {},
   "outputs": [
    {
     "name": "stdout",
     "output_type": "stream",
     "text": [
      "私の名前はジョンです。私は30歳です。\n"
     ]
    }
   ],
   "source": [
    "name = \"ジョン\"\n",
    "age = 30\n",
    "print(f\"私の名前は{name}です。私は{age}歳です。\")"
   ]
  },
  {
   "cell_type": "code",
   "execution_count": 6,
   "id": "63ab2a3b",
   "metadata": {},
   "outputs": [
    {
     "name": "stdout",
     "output_type": "stream",
     "text": [
      "5足す10は15です。\n"
     ]
    }
   ],
   "source": [
    "a = 5\n",
    "b = 10\n",
    "print(f\"{a}足す{b}は{a + b}です。\")"
   ]
  },
  {
   "cell_type": "code",
   "execution_count": 7,
   "id": "5c9e0c29",
   "metadata": {},
   "outputs": [
    {
     "name": "stdout",
     "output_type": "stream",
     "text": [
      "小数点以下の桁数: 3.14\n",
      "カンマ区切り: 1,234,567,890\n",
      "文字列の幅「Alice     」\n",
      "ゼロ埋め: 00042\n",
      "パーセント表示: 85.6%\n",
      "左揃え　「Alice     」\n",
      "右揃え　「     Alice」\n",
      "中央揃え「  Alice   」\n",
      "現在日時: 2025-04-12 13:19:18\n"
     ]
    }
   ],
   "source": [
    "# 小数点以下の桁数\n",
    "pi = 3.14159\n",
    "print(f\"小数点以下の桁数: {pi:.2f}\") # 2桁に指定\n",
    "\n",
    "# カンマ区切り\n",
    "large_number = 1234567890\n",
    "print(f\"カンマ区切り: {large_number:,}\")\n",
    "\n",
    "# 文字列の出力幅\n",
    "name = \"Alice\"\n",
    "print(f\"文字列の幅「{name:10}」\")  # 10文字分の幅で表示\n",
    "\n",
    "# ゼロ埋め\n",
    "num = 42\n",
    "print(f\"ゼロ埋め: {num:05}\")  # 5桁で表示し、足りない部分はゼロで埋める\n",
    "\n",
    "# パーセント表示\n",
    "accuracy = 0.856\n",
    "print(f\"パーセント表示: {accuracy:.1%}\")\n",
    "\n",
    "# 揃え\n",
    "name = \"Alice\"\n",
    "print(f\"左揃え　「{name:<10}」\")  # 左揃えで10文字幅\n",
    "print(f\"右揃え　「{name:>10}」\")  # 右揃えで10文字幅\n",
    "print(f\"中央揃え「{name:^10}」\")  # 中央揃えで10文字幅\n",
    "\n",
    "# 日時のフォーマット\n",
    "from datetime import datetime\n",
    "now = datetime.now()\n",
    "print(f\"現在日時: {now:%Y-%m-%d %H:%M:%S}\")"
   ]
  },
  {
   "cell_type": "code",
   "execution_count": 8,
   "id": "a1f0f2fe",
   "metadata": {},
   "outputs": [
    {
     "name": "stdout",
     "output_type": "stream",
     "text": [
      "まだ値が設定されていません\n"
     ]
    }
   ],
   "source": [
    "value = None  # 変数を初期化\n",
    "if value is None:\n",
    "    print(\"まだ値が設定されていません\")"
   ]
  },
  {
   "cell_type": "code",
   "execution_count": 9,
   "id": "7ffa0bf4",
   "metadata": {},
   "outputs": [
    {
     "name": "stdout",
     "output_type": "stream",
     "text": [
      "Hello!\n",
      "None\n"
     ]
    }
   ],
   "source": [
    "def greet():\n",
    "    print(\"Hello!\")\n",
    "\n",
    "result = greet()  # 関数がNoneを返す\n",
    "print(result)     # Noneと出力される"
   ]
  },
  {
   "cell_type": "code",
   "execution_count": 10,
   "id": "03fab174",
   "metadata": {},
   "outputs": [
    {
     "name": "stdout",
     "output_type": "stream",
     "text": [
      "データがありません\n"
     ]
    }
   ],
   "source": [
    "data = None\n",
    "if data is None:\n",
    "    print(\"データがありません\")"
   ]
  }
 ],
 "metadata": {
  "kernelspec": {
   "display_name": ".venv",
   "language": "python",
   "name": "python3"
  },
  "language_info": {
   "codemirror_mode": {
    "name": "ipython",
    "version": 3
   },
   "file_extension": ".py",
   "mimetype": "text/x-python",
   "name": "python",
   "nbconvert_exporter": "python",
   "pygments_lexer": "ipython3",
   "version": "3.13.2"
  }
 },
 "nbformat": 4,
 "nbformat_minor": 5
}
