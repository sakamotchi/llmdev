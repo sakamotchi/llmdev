{
 "cells": [
  {
   "cell_type": "code",
   "execution_count": 3,
   "id": "583e941e",
   "metadata": {},
   "outputs": [
    {
     "name": "stdout",
     "output_type": "stream",
     "text": [
      "a: 10\n",
      "b: -5\n",
      "c: 0\n",
      "合計: 5\n",
      "積: -50\n",
      "除算結果: 3.3333333333333335\n",
      "整数除算結果: 3\n",
      "x: 3.14\n",
      "y: -0.5\n",
      "z: 2.0\n",
      "合計: 2.64\n",
      "積: -1.57\n"
     ]
    }
   ],
   "source": [
    "# 整数の代入\n",
    "a = 10\n",
    "b = -5\n",
    "c = 0\n",
    "\n",
    "# 整数同士の計算\n",
    "sum_result = a + b # 10 + (-5) = 5\n",
    "product_result = a * b # 10 * (-5) = -50\n",
    "\n",
    "print(\"a:\", a)\n",
    "print(\"b:\", b)\n",
    "print(\"c:\", c)\n",
    "print(\"合計:\", sum_result)\n",
    "print(\"積:\", product_result)\n",
    "\n",
    "# 除算の例\n",
    "division_result = a / 3 # 結果は 3.333...(float型)\n",
    "integer_division_result = a // 3 # 結果は 3 (int型)\n",
    "\n",
    "print(\"除算結果:\", division_result)\n",
    "print(\"整数除算結果:\", integer_division_result)\n",
    "\n",
    "# 浮動小数点数の代入\n",
    "x = 3.14\n",
    "y = -0.5\n",
    "z = 2.0\n",
    "\n",
    "# 浮動小数点数の計算\n",
    "sum_result = x + y # 3.14 + (-0.5) = 2.64\n",
    "product_result = x * y # 3.14 * (-0.5) = -1.57\n",
    "\n",
    "print(\"x:\", x)\n",
    "print(\"y:\", y)\n",
    "print(\"z:\", z)\n",
    "print(\"合計:\", sum_result)\n",
    "print(\"積:\", product_result)\n"
   ]
  },
  {
   "cell_type": "code",
   "execution_count": 4,
   "id": "9c50bdf9",
   "metadata": {},
   "outputs": [
    {
     "name": "stdout",
     "output_type": "stream",
     "text": [
      "0.1 + 0.2 = 0.30000000000000004\n"
     ]
    }
   ],
   "source": [
    "# 浮動小数点数の誤差の例\n",
    "result = 0.1 + 0.2\n",
    "print(\"0.1 + 0.2 =\", result)"
   ]
  },
  {
   "cell_type": "code",
   "execution_count": 5,
   "id": "074a730f",
   "metadata": {},
   "outputs": [
    {
     "name": "stdout",
     "output_type": "stream",
     "text": [
      "a の型: <class 'int'>\n",
      "b の型: <class 'float'>\n"
     ]
    }
   ],
   "source": [
    "a = 10 # int 型\n",
    "b = float(a) # float 型に変換\n",
    "\n",
    "print(\"a の型:\", type(a))\n",
    "print(\"b の型:\", type(b))"
   ]
  },
  {
   "cell_type": "code",
   "execution_count": 6,
   "id": "e90147d5",
   "metadata": {},
   "outputs": [
    {
     "name": "stdout",
     "output_type": "stream",
     "text": [
      "x の型: <class 'float'>\n",
      "y の型: <class 'int'>\n",
      "y の値: 3\n"
     ]
    }
   ],
   "source": [
    "x = 3.99 # float 型\n",
    "y = int(x) # int 型に変換\n",
    "\n",
    "print(\"x の型:\", type(x))\n",
    "print(\"y の型:\", type(y))\n",
    "print(\"y の値:\", y)"
   ]
  },
  {
   "cell_type": "code",
   "execution_count": 7,
   "id": "1ab1d39c",
   "metadata": {},
   "outputs": [
    {
     "name": "stdout",
     "output_type": "stream",
     "text": [
      "0.000123\n"
     ]
    }
   ],
   "source": [
    "num = 1.23e-4\n",
    "print(num)"
   ]
  },
  {
   "cell_type": "code",
   "execution_count": 8,
   "id": "5a83abaf",
   "metadata": {},
   "outputs": [
    {
     "name": "stdout",
     "output_type": "stream",
     "text": [
      "c1: (2+3j)\n",
      "c2: (-1+0.5j)\n",
      "合計: (1+3.5j)\n",
      "積: (-3.5-2j)\n"
     ]
    }
   ],
   "source": [
    "# 複素数の代入\n",
    "c1 = 2 + 3j\n",
    "c2 = -1 + 0.5j\n",
    "\n",
    "# 複素数の計算\n",
    "sum_result = c1 + c2 # (2 + 3j) + (-1 + 0.5j) = 1 + 3.5j\n",
    "product_result = c1 * c2 # (2 + 3j) * (-1 + 0.5j) = -3.5 + 1j\n",
    "\n",
    "print(\"c1:\", c1)\n",
    "print(\"c2:\", c2)\n",
    "print(\"合計:\", sum_result)\n",
    "print(\"積:\", product_result)"
   ]
  },
  {
   "cell_type": "code",
   "execution_count": 10,
   "id": "ccb4fb26",
   "metadata": {},
   "outputs": [
    {
     "name": "stdout",
     "output_type": "stream",
     "text": [
      "「'」はシングルクォートです。\n",
      "「\"」はダブルクォートです。\n"
     ]
    }
   ],
   "source": [
    "text1 = \"「'」はシングルクォートです。\"\n",
    "text2 = '「\"」はダブルクォートです。'\n",
    "print(text1)\n",
    "print(text2)"
   ]
  },
  {
   "cell_type": "code",
   "execution_count": 11,
   "id": "b136ff5a",
   "metadata": {},
   "outputs": [
    {
     "name": "stdout",
     "output_type": "stream",
     "text": [
      "Hello World\n",
      "Hi! Hi! Hi! \n",
      "文字列の長さ: 13\n"
     ]
    }
   ],
   "source": [
    "# 文字列の結合\n",
    "text1 = \"Hello\"\n",
    "text2 = \"World\"\n",
    "result = text1 + \" \" + text2 # \"Hello World\"\n",
    "print(result)\n",
    "\n",
    "# 文字列の繰り返し\n",
    "text = \"Hi! \"\n",
    "print(text * 3) # \"Hi! Hi! Hi! \"\n",
    "\n",
    "# 文字列の長さ\n",
    "length = len(\"Hello, World!\")\n",
    "print(\"文字列の長さ:\", length)\n"
   ]
  },
  {
   "cell_type": "code",
   "execution_count": 12,
   "id": "4d9d0633",
   "metadata": {},
   "outputs": [
    {
     "name": "stdout",
     "output_type": "stream",
     "text": [
      "大文字: PYTHON\n",
      "小文字: python\n",
      "Hello, Python!\n",
      "Hello, World!\n",
      "7\n"
     ]
    }
   ],
   "source": [
    "# 大文字や小文字に変換\n",
    "text = \"Python\"\n",
    "print(\"大文字:\", text.upper()) # \"PYTHON\"\n",
    "print(\"小文字:\", text.lower()) # \"python\"\n",
    "\n",
    "# 部分文字列を置換\n",
    "text = \"Hello, World!\"\n",
    "print(text.replace(\"World\", \"Python\")) # \"Hello, Python!\"\n",
    "\n",
    "# 前後の空白や指定した文字を削除\n",
    "text = \"  Hello, World!  \"\n",
    "print(text.strip()) # \"Hello, World!\"\n",
    "\n",
    "# 部分文字列の最初の位置を検索\n",
    "text = \"Hello, World!\"\n",
    "print(text.find(\"World\")) # 7\n"
   ]
  },
  {
   "cell_type": "code",
   "execution_count": 13,
   "id": "660422ae",
   "metadata": {},
   "outputs": [
    {
     "name": "stdout",
     "output_type": "stream",
     "text": [
      "エスケープを使うと、「'」シングルクォートと「\"」ダブルクォートを混在させたり、\n",
      "改行や\tタブを入れたりと多彩な表現が可能です\n"
     ]
    }
   ],
   "source": [
    "print(\"エスケープを使うと、「\\'」シングルクォートと「\\\"」ダブルクォートを混在させたり、\\n改行や\\tタブを入れたりと多彩な表現が可能です\")"
   ]
  },
  {
   "cell_type": "code",
   "execution_count": 14,
   "id": "6a4a00cf",
   "metadata": {},
   "outputs": [
    {
     "name": "stdout",
     "output_type": "stream",
     "text": [
      "A様\n",
      "いつもお世話になっております。Bです。\n",
      "先日はお越しくださりありがとうございました。\n",
      "またのご来店をお待ちしております。\n"
     ]
    }
   ],
   "source": [
    "message = '''A様\n",
    "いつもお世話になっております。Bです。\n",
    "先日はお越しくださりありがとうございました。\n",
    "またのご来店をお待ちしております。'''\n",
    "\n",
    "print(message)"
   ]
  },
  {
   "cell_type": "code",
   "execution_count": 15,
   "id": "99529b89",
   "metadata": {},
   "outputs": [
    {
     "ename": "TypeError",
     "evalue": "can't multiply sequence by non-int of type 'float'",
     "output_type": "error",
     "traceback": [
      "\u001b[31m---------------------------------------------------------------------------\u001b[39m",
      "\u001b[31mTypeError\u001b[39m                                 Traceback (most recent call last)",
      "\u001b[36mCell\u001b[39m\u001b[36m \u001b[39m\u001b[32mIn[15]\u001b[39m\u001b[32m, line 2\u001b[39m\n\u001b[32m      1\u001b[39m price = \u001b[33m\"\u001b[39m\u001b[33m100\u001b[39m\u001b[33m\"\u001b[39m\n\u001b[32m----> \u001b[39m\u001b[32m2\u001b[39m \u001b[38;5;28mprint\u001b[39m(\u001b[33m\"\u001b[39m\u001b[33m税込価格は\u001b[39m\u001b[33m\"\u001b[39m, \u001b[43mprice\u001b[49m\u001b[43m \u001b[49m\u001b[43m*\u001b[49m\u001b[43m \u001b[49m\u001b[32;43m1.1\u001b[39;49m, \u001b[33m\"\u001b[39m\u001b[33m円です\u001b[39m\u001b[33m\"\u001b[39m)\n",
      "\u001b[31mTypeError\u001b[39m: can't multiply sequence by non-int of type 'float'"
     ]
    }
   ],
   "source": [
    "price = \"100\"\n",
    "print(\"税込価格は\", price * 1.1, \"円です\")"
   ]
  },
  {
   "cell_type": "code",
   "execution_count": 16,
   "id": "42abbf21",
   "metadata": {},
   "outputs": [
    {
     "name": "stdout",
     "output_type": "stream",
     "text": [
      "num_str の型: <class 'str'>\n",
      "num_str の値: 100\n",
      "int_value の型: <class 'int'>\n",
      "int_value の値: 250\n"
     ]
    }
   ],
   "source": [
    "num = 100\n",
    "num_str = str(num) # int 型を str 型に変換\n",
    "\n",
    "print(\"num_str の型:\", type(num_str)) # <class 'str'>\n",
    "print(\"num_str の値:\", num_str) # \"100\"\n",
    "\n",
    "# 文字列を数値に変換\n",
    "str_value = \"250\"\n",
    "int_value = int(str_value) # str 型を int 型に変換\n",
    "\n",
    "print(\"int_value の型:\", type(int_value)) # <class 'int'>\n",
    "print(\"int_value の値:\", int_value) # 250"
   ]
  },
  {
   "cell_type": "code",
   "execution_count": 17,
   "id": "9c7a922b",
   "metadata": {},
   "outputs": [
    {
     "name": "stdout",
     "output_type": "stream",
     "text": [
      "こんにちは、太郎さん！\n"
     ]
    }
   ],
   "source": [
    "name = input(\"名前を入力してください: \")\n",
    "print(\"こんにちは、\" + name + \"さん！\")"
   ]
  },
  {
   "cell_type": "code",
   "execution_count": 18,
   "id": "0976dbf0",
   "metadata": {},
   "outputs": [
    {
     "name": "stdout",
     "output_type": "stream",
     "text": [
      "入力した数値に10を足すと、 13 になります。\n"
     ]
    }
   ],
   "source": [
    "num = int(input(\"数値を入力してください: \"))\n",
    "result = num + 10\n",
    "print(\"入力した数値に10を足すと、\", result, \"になります。\")"
   ]
  }
 ],
 "metadata": {
  "kernelspec": {
   "display_name": ".venv",
   "language": "python",
   "name": "python3"
  },
  "language_info": {
   "codemirror_mode": {
    "name": "ipython",
    "version": 3
   },
   "file_extension": ".py",
   "mimetype": "text/x-python",
   "name": "python",
   "nbconvert_exporter": "python",
   "pygments_lexer": "ipython3",
   "version": "3.13.2"
  }
 },
 "nbformat": 4,
 "nbformat_minor": 5
}
