{
 "cells": [
  {
   "cell_type": "code",
   "execution_count": 2,
   "id": "135e8684",
   "metadata": {},
   "outputs": [
    {
     "name": "stdout",
     "output_type": "stream",
     "text": [
      "送料350円がかかります\n",
      "送料込税込価格は2000円です\n"
     ]
    }
   ],
   "source": [
    "# 税抜価格を受け取る\n",
    "price = int(input(\"税抜価格を入力してください: \"))\n",
    "\n",
    "# 税込み価格を計算\n",
    "tax_included_price = int(price * 1.1)\n",
    "\n",
    "# 税込価格が2000円以上の場合は送料無料、未満の場合は送料350円\n",
    "if tax_included_price >= 2000:\n",
    "    print(\"送料は無料です\")\n",
    "    print(f\"送料込税込価格は{tax_included_price}円です\")\n",
    "else:\n",
    "    print(\"送料350円がかかります\")\n",
    "    print(f\"送料込税込価格は{tax_included_price + 350}円です\")\n"
   ]
  }
 ],
 "metadata": {
  "kernelspec": {
   "display_name": ".venv",
   "language": "python",
   "name": "python3"
  },
  "language_info": {
   "codemirror_mode": {
    "name": "ipython",
    "version": 3
   },
   "file_extension": ".py",
   "mimetype": "text/x-python",
   "name": "python",
   "nbconvert_exporter": "python",
   "pygments_lexer": "ipython3",
   "version": "3.13.2"
  }
 },
 "nbformat": 4,
 "nbformat_minor": 5
}
