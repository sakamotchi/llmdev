{
 "cells": [
  {
   "cell_type": "code",
   "execution_count": null,
   "id": "253a432c",
   "metadata": {},
   "outputs": [
    {
     "name": "stdout",
     "output_type": "stream",
     "text": [
      "10年後の金額: 1628.89\n"
     ]
    }
   ],
   "source": [
    "# 元金を入力します\n",
    "principal = int(input(\"元金を入力してください: \"))\n",
    "# 年利率を入力します\n",
    "interest_rate = float(input(\"年利を入力してください: \"))\n",
    "\n",
    "# １０年後の金額を計算します\n",
    "for _ in range(10):\n",
    "    principal = principal * (1 + interest_rate / 100)\n",
    "\n",
    "# １０年後の金額を表示します\n",
    "print(\"元金を入力してください:\", principal)\n",
    "print(\"年利を入力してください:\", interest_rate)\n",
    "print(\"10年後の金額:\", round(principal, 2))"
   ]
  }
 ],
 "metadata": {
  "kernelspec": {
   "display_name": ".venv",
   "language": "python",
   "name": "python3"
  },
  "language_info": {
   "codemirror_mode": {
    "name": "ipython",
    "version": 3
   },
   "file_extension": ".py",
   "mimetype": "text/x-python",
   "name": "python",
   "nbconvert_exporter": "python",
   "pygments_lexer": "ipython3",
   "version": "3.13.2"
  }
 },
 "nbformat": 4,
 "nbformat_minor": 5
}
