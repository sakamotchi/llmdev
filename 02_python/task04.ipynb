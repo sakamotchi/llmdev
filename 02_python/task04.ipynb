{
 "cells": [
  {
   "cell_type": "code",
   "execution_count": 3,
   "id": "938bdcf6",
   "metadata": {},
   "outputs": [
    {
     "name": "stdout",
     "output_type": "stream",
     "text": [
      "エラー：数値を入力してください。\n"
     ]
    }
   ],
   "source": [
    "try:\n",
    "    # １つ目の数値を入力してください\n",
    "    first_number = int(input(\"1つ目の数値を入力してください: \"))\n",
    "    # ２つ目の数値を入力してください\n",
    "    second_number = int(input(\"2つ目の数値を入力してください: \"))\n",
    "\n",
    "    result = first_number / second_number\n",
    "except ZeroDivisionError:\n",
    "    print(\"エラー：0で割ることはできません。\")\n",
    "except ValueError:\n",
    "    print(\"エラー：数値を入力してください。\")\n",
    "else:\n",
    "    print(f\"計算結果: {result}\")"
   ]
  }
 ],
 "metadata": {
  "kernelspec": {
   "display_name": ".venv",
   "language": "python",
   "name": "python3"
  },
  "language_info": {
   "codemirror_mode": {
    "name": "ipython",
    "version": 3
   },
   "file_extension": ".py",
   "mimetype": "text/x-python",
   "name": "python",
   "nbconvert_exporter": "python",
   "pygments_lexer": "ipython3",
   "version": "3.13.2"
  }
 },
 "nbformat": 4,
 "nbformat_minor": 5
}
